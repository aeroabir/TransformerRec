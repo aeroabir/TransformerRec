{
 "cells": [
  {
   "cell_type": "markdown",
   "metadata": {},
   "source": [
    "# Understanding H&M Data\n",
    "\n",
    "    - source: https://www.kaggle.com/c/h-and-m-personalized-fashion-recommendations/\n",
    "    - transactions in: transactions_train.csv\n",
    "    - customer information in: customers.csv\n",
    "    - product descriptions in: articles.csv\n",
    "    - product images are in: images/ folder by article-id"
   ]
  },
  {
   "cell_type": "code",
   "execution_count": 1,
   "metadata": {},
   "outputs": [],
   "source": [
    "%load_ext autoreload\n",
    "%autoreload 2"
   ]
  },
  {
   "cell_type": "code",
   "execution_count": 2,
   "metadata": {},
   "outputs": [],
   "source": [
    "import numpy as np\n",
    "import os\n",
    "import pandas as pd\n",
    "from tqdm import tqdm\n",
    "import time\n",
    "\n",
    "from scipy import stats\n",
    "import numpy as np\n",
    "import matplotlib.pyplot as plt\n",
    "\n",
    "%matplotlib inline\n",
    "\n",
    "from utils import write_train_file, create_submission_file"
   ]
  },
  {
   "cell_type": "code",
   "execution_count": 3,
   "metadata": {},
   "outputs": [],
   "source": [
    "data_dir = \"/recsys_data/RecSys/h_and_m_personalized_fashion_recommendation\""
   ]
  },
  {
   "cell_type": "code",
   "execution_count": 4,
   "metadata": {},
   "outputs": [
    {
     "name": "stdout",
     "output_type": "stream",
     "text": [
      "Total 105542 products\n"
     ]
    }
   ],
   "source": [
    "df_prod = pd.read_csv(os.path.join(data_dir, \"articles.csv\"), dtype={'article_id': str, 'product_code': str})\n",
    "df_prod = df_prod.set_index('article_id').T.to_dict()\n",
    "print(f\"Total {len(df_prod)} products\")"
   ]
  },
  {
   "cell_type": "code",
   "execution_count": 5,
   "metadata": {},
   "outputs": [
    {
     "data": {
      "text/plain": [
       "{'product_code': '0108775',\n",
       " 'prod_name': 'Strap top',\n",
       " 'product_type_no': 253,\n",
       " 'product_type_name': 'Vest top',\n",
       " 'product_group_name': 'Garment Upper body',\n",
       " 'graphical_appearance_no': 1010016,\n",
       " 'graphical_appearance_name': 'Solid',\n",
       " 'colour_group_code': 9,\n",
       " 'colour_group_name': 'Black',\n",
       " 'perceived_colour_value_id': 4,\n",
       " 'perceived_colour_value_name': 'Dark',\n",
       " 'perceived_colour_master_id': 5,\n",
       " 'perceived_colour_master_name': 'Black',\n",
       " 'department_no': 1676,\n",
       " 'department_name': 'Jersey Basic',\n",
       " 'index_code': 'A',\n",
       " 'index_name': 'Ladieswear',\n",
       " 'index_group_no': 1,\n",
       " 'index_group_name': 'Ladieswear',\n",
       " 'section_no': 16,\n",
       " 'section_name': 'Womens Everyday Basics',\n",
       " 'garment_group_no': 1002,\n",
       " 'garment_group_name': 'Jersey Basic',\n",
       " 'detail_desc': 'Jersey top with narrow shoulder straps.'}"
      ]
     },
     "execution_count": 5,
     "metadata": {},
     "output_type": "execute_result"
    }
   ],
   "source": [
    "df_prod['0108775015']"
   ]
  },
  {
   "cell_type": "code",
   "execution_count": 6,
   "metadata": {},
   "outputs": [
    {
     "data": {
      "text/html": [
       "<div>\n",
       "<style scoped>\n",
       "    .dataframe tbody tr th:only-of-type {\n",
       "        vertical-align: middle;\n",
       "    }\n",
       "\n",
       "    .dataframe tbody tr th {\n",
       "        vertical-align: top;\n",
       "    }\n",
       "\n",
       "    .dataframe thead th {\n",
       "        text-align: right;\n",
       "    }\n",
       "</style>\n",
       "<table border=\"1\" class=\"dataframe\">\n",
       "  <thead>\n",
       "    <tr style=\"text-align: right;\">\n",
       "      <th></th>\n",
       "      <th>t_dat</th>\n",
       "      <th>customer_id</th>\n",
       "      <th>article_id</th>\n",
       "      <th>price</th>\n",
       "      <th>sales_channel_id</th>\n",
       "    </tr>\n",
       "  </thead>\n",
       "  <tbody>\n",
       "    <tr>\n",
       "      <th>0</th>\n",
       "      <td>2018-09-20</td>\n",
       "      <td>000058a12d5b43e67d225668fa1f8d618c13dc232df0ca...</td>\n",
       "      <td>0663713001</td>\n",
       "      <td>0.050831</td>\n",
       "      <td>2</td>\n",
       "    </tr>\n",
       "    <tr>\n",
       "      <th>1</th>\n",
       "      <td>2018-09-20</td>\n",
       "      <td>000058a12d5b43e67d225668fa1f8d618c13dc232df0ca...</td>\n",
       "      <td>0541518023</td>\n",
       "      <td>0.030492</td>\n",
       "      <td>2</td>\n",
       "    </tr>\n",
       "    <tr>\n",
       "      <th>2</th>\n",
       "      <td>2018-09-20</td>\n",
       "      <td>00007d2de826758b65a93dd24ce629ed66842531df6699...</td>\n",
       "      <td>0505221004</td>\n",
       "      <td>0.015237</td>\n",
       "      <td>2</td>\n",
       "    </tr>\n",
       "    <tr>\n",
       "      <th>3</th>\n",
       "      <td>2018-09-20</td>\n",
       "      <td>00007d2de826758b65a93dd24ce629ed66842531df6699...</td>\n",
       "      <td>0685687003</td>\n",
       "      <td>0.016932</td>\n",
       "      <td>2</td>\n",
       "    </tr>\n",
       "    <tr>\n",
       "      <th>4</th>\n",
       "      <td>2018-09-20</td>\n",
       "      <td>00007d2de826758b65a93dd24ce629ed66842531df6699...</td>\n",
       "      <td>0685687004</td>\n",
       "      <td>0.016932</td>\n",
       "      <td>2</td>\n",
       "    </tr>\n",
       "    <tr>\n",
       "      <th>...</th>\n",
       "      <td>...</td>\n",
       "      <td>...</td>\n",
       "      <td>...</td>\n",
       "      <td>...</td>\n",
       "      <td>...</td>\n",
       "    </tr>\n",
       "    <tr>\n",
       "      <th>31788319</th>\n",
       "      <td>2020-09-22</td>\n",
       "      <td>fff2282977442e327b45d8c89afde25617d00124d0f999...</td>\n",
       "      <td>0929511001</td>\n",
       "      <td>0.059305</td>\n",
       "      <td>2</td>\n",
       "    </tr>\n",
       "    <tr>\n",
       "      <th>31788320</th>\n",
       "      <td>2020-09-22</td>\n",
       "      <td>fff2282977442e327b45d8c89afde25617d00124d0f999...</td>\n",
       "      <td>0891322004</td>\n",
       "      <td>0.042356</td>\n",
       "      <td>2</td>\n",
       "    </tr>\n",
       "    <tr>\n",
       "      <th>31788321</th>\n",
       "      <td>2020-09-22</td>\n",
       "      <td>fff380805474b287b05cb2a7507b9a013482f7dd0bce0e...</td>\n",
       "      <td>0918325001</td>\n",
       "      <td>0.043203</td>\n",
       "      <td>1</td>\n",
       "    </tr>\n",
       "    <tr>\n",
       "      <th>31788322</th>\n",
       "      <td>2020-09-22</td>\n",
       "      <td>fff4d3a8b1f3b60af93e78c30a7cb4cf75edaf2590d3e5...</td>\n",
       "      <td>0833459002</td>\n",
       "      <td>0.006763</td>\n",
       "      <td>1</td>\n",
       "    </tr>\n",
       "    <tr>\n",
       "      <th>31788323</th>\n",
       "      <td>2020-09-22</td>\n",
       "      <td>fffef3b6b73545df065b521e19f64bf6fe93bfd450ab20...</td>\n",
       "      <td>0898573003</td>\n",
       "      <td>0.033881</td>\n",
       "      <td>2</td>\n",
       "    </tr>\n",
       "  </tbody>\n",
       "</table>\n",
       "<p>31788324 rows × 5 columns</p>\n",
       "</div>"
      ],
      "text/plain": [
       "              t_dat                                        customer_id  \\\n",
       "0        2018-09-20  000058a12d5b43e67d225668fa1f8d618c13dc232df0ca...   \n",
       "1        2018-09-20  000058a12d5b43e67d225668fa1f8d618c13dc232df0ca...   \n",
       "2        2018-09-20  00007d2de826758b65a93dd24ce629ed66842531df6699...   \n",
       "3        2018-09-20  00007d2de826758b65a93dd24ce629ed66842531df6699...   \n",
       "4        2018-09-20  00007d2de826758b65a93dd24ce629ed66842531df6699...   \n",
       "...             ...                                                ...   \n",
       "31788319 2020-09-22  fff2282977442e327b45d8c89afde25617d00124d0f999...   \n",
       "31788320 2020-09-22  fff2282977442e327b45d8c89afde25617d00124d0f999...   \n",
       "31788321 2020-09-22  fff380805474b287b05cb2a7507b9a013482f7dd0bce0e...   \n",
       "31788322 2020-09-22  fff4d3a8b1f3b60af93e78c30a7cb4cf75edaf2590d3e5...   \n",
       "31788323 2020-09-22  fffef3b6b73545df065b521e19f64bf6fe93bfd450ab20...   \n",
       "\n",
       "          article_id     price  sales_channel_id  \n",
       "0         0663713001  0.050831                 2  \n",
       "1         0541518023  0.030492                 2  \n",
       "2         0505221004  0.015237                 2  \n",
       "3         0685687003  0.016932                 2  \n",
       "4         0685687004  0.016932                 2  \n",
       "...              ...       ...               ...  \n",
       "31788319  0929511001  0.059305                 2  \n",
       "31788320  0891322004  0.042356                 2  \n",
       "31788321  0918325001  0.043203                 1  \n",
       "31788322  0833459002  0.006763                 1  \n",
       "31788323  0898573003  0.033881                 2  \n",
       "\n",
       "[31788324 rows x 5 columns]"
      ]
     },
     "execution_count": 6,
     "metadata": {},
     "output_type": "execute_result"
    }
   ],
   "source": [
    "df_tr = pd.read_csv(os.path.join(data_dir, \"transactions_train.csv\"), dtype={'article_id': str})\n",
    "df_tr['t_dat'] = pd.to_datetime(df_tr['t_dat'])\n",
    "df_tr"
   ]
  },
  {
   "cell_type": "code",
   "execution_count": 7,
   "metadata": {},
   "outputs": [
    {
     "name": "stdout",
     "output_type": "stream",
     "text": [
      "Total 1362281 customers and 104547 products\n"
     ]
    }
   ],
   "source": [
    "print(f\"Total {len(df_tr['customer_id'].unique())} customers and {len(df_tr['article_id'].unique())} products\")"
   ]
  },
  {
   "cell_type": "code",
   "execution_count": 8,
   "metadata": {},
   "outputs": [
    {
     "data": {
      "text/plain": [
       "(Timestamp('2018-09-20 00:00:00'), Timestamp('2020-09-22 00:00:00'))"
      ]
     },
     "execution_count": 8,
     "metadata": {},
     "output_type": "execute_result"
    }
   ],
   "source": [
    "df_tr['t_dat'].min(), df_tr['t_dat'].max()"
   ]
  },
  {
   "cell_type": "markdown",
   "metadata": {},
   "source": [
    "## Statistics for the last 3 weeks"
   ]
  },
  {
   "cell_type": "code",
   "execution_count": 9,
   "metadata": {},
   "outputs": [
    {
     "name": "stdout",
     "output_type": "stream",
     "text": [
      "Total 196319 customers and 26583 products\n"
     ]
    }
   ],
   "source": [
    "tr_3w = df_tr[df_tr['t_dat'] >= pd.to_datetime('2020-08-31')].copy()  # last 3 weeks\n",
    "\n",
    "# tr_3w = df_tr[df_tr['t_dat'] >= pd.to_datetime('2020-07-31')].copy()  # last 7 weeks\n",
    "print(f\"Total {len(tr_3w['customer_id'].unique())} customers and {len(tr_3w['article_id'].unique())} products\")"
   ]
  },
  {
   "cell_type": "code",
   "execution_count": 10,
   "metadata": {},
   "outputs": [
    {
     "name": "stderr",
     "output_type": "stream",
     "text": [
      "100%|██████████| 196319/196319 [03:34<00:00, 914.16it/s]\n"
     ]
    },
    {
     "name": "stdout",
     "output_type": "stream",
     "text": [
      "Total 196319 customers with average 4 products\n",
      "Total 26583 items\n"
     ]
    }
   ],
   "source": [
    "dfg = tr_3w.groupby(\"customer_id\")\n",
    "cust_dict, prod_dict, transactions = {}, {}, {}\n",
    "count_cust, count_prod = 0, 0\n",
    "num_products = []\n",
    "for ckey, df_c in tqdm(dfg):\n",
    "    count_cust += 1\n",
    "    cust_dict[ckey] = count_cust\n",
    "    df_c = df_c.sort_values(by=['t_dat'])\n",
    "    products = df_c['article_id'].tolist()\n",
    "    dates = df_c['t_dat'].tolist()\n",
    "    transactions[ckey] = {'products': [], 'days': []}\n",
    "    for p in products:\n",
    "        if p in prod_dict:\n",
    "            prod_dict[p] += 1\n",
    "        else:\n",
    "            prod_dict[p] = 1\n",
    "    transactions[ckey]['products'].append(products)\n",
    "    transactions[ckey]['days'].append(dates)\n",
    "    num_products.append(len(df_c['article_id'].unique()))\n",
    "\n",
    "print(f\"Total {len(cust_dict)} customers with average {np.mean(num_products):.0f} products\")\n",
    "print(f\"Total {len(prod_dict)} items\")"
   ]
  },
  {
   "cell_type": "code",
   "execution_count": 11,
   "metadata": {},
   "outputs": [
    {
     "data": {
      "text/plain": [
       "[<matplotlib.lines.Line2D at 0x7fc301ed26d0>]"
      ]
     },
     "execution_count": 11,
     "metadata": {},
     "output_type": "execute_result"
    },
    {
     "data": {
      "image/png": "[encoded data removed]",
      "text/plain": [
       "<Figure size 576x432 with 1 Axes>"
      ]
     },
     "metadata": {
      "needs_background": "light"
     },
     "output_type": "display_data"
    }
   ],
   "source": [
    "bins = np.arange(50)\n",
    "count_prods = dfg['article_id'].count()\n",
    "\n",
    "kde = stats.gaussian_kde(count_prods)\n",
    "xx = np.linspace(0, 50, 100)\n",
    "fig, ax = plt.subplots(figsize=(8,6))\n",
    "ax.hist(count_prods, density=True, bins=bins, alpha=0.3)\n",
    "ax.plot(xx, kde(xx))"
   ]
  },
  {
   "cell_type": "code",
   "execution_count": 22,
   "metadata": {},
   "outputs": [
    {
     "name": "stdout",
     "output_type": "stream",
     "text": [
      "35084 items in filtered sequences\n",
      "Original 35084 items, remaining 35084 items\n",
      "[('0751471001', 4110), ('0918292001', 3639), ('0706016001', 3563), ('0448509014', 2976), ('0751471043', 2939)]\n",
      "Item-ids range from 1, ... 35084\n"
     ]
    }
   ],
   "source": [
    "filtered_customers = list(cust_dict.keys())\n",
    "\n",
    "all_seqs = [transactions[cust]['products'][0] for cust in filtered_customers]\n",
    "seq_prods = set([item for sublist in all_seqs for item in sublist])\n",
    "print(f\"{len(seq_prods)} items in filtered sequences\")\n",
    "\n",
    "# items solely based on the considered interactions - tighter bounds\n",
    "filtered_items = set([k for k in prod_dict if k in seq_prods])\n",
    "print(f\"Original {len(prod_dict)} items, remaining {len(filtered_items)} items\")\n",
    "\n",
    "# get the item counts so that most frequent item gets lowest id\n",
    "item_counts = [(k, prod_dict[k]) for k in prod_dict if k in filtered_items]\n",
    "item_counts = sorted(item_counts, key=lambda x: x[1], reverse=True)\n",
    "print(item_counts[:5])\n",
    "\n",
    "# create the item-dict, starting from 1\n",
    "item_dict = {k[0]: ii+1 for ii, k in enumerate(item_counts)}\n",
    "item_ids = list(item_dict.values())\n",
    "print(f\"Item-ids range from {min(item_ids)}, ... {max(item_ids)}\")"
   ]
  },
  {
   "cell_type": "code",
   "execution_count": 23,
   "metadata": {},
   "outputs": [
    {
     "name": "stderr",
     "output_type": "stream",
     "text": [
      "100%|██████████| 367793/367793 [10:15<00:00, 597.77it/s]"
     ]
    },
    {
     "name": "stdout",
     "output_type": "stream",
     "text": [
      "Written 2074165 lines in /recsys_data/RecSys/h_and_m_personalized_fashion_recommendation/hnm_7w.txt, 367793 users and 35084 items\n",
      "Sequence length, min: 1, averag: 5.639490147990854 and max: 243\n"
     ]
    },
    {
     "name": "stderr",
     "output_type": "stream",
     "text": [
      "\n"
     ]
    }
   ],
   "source": [
    "write_train_file(data_dir=data_dir, \n",
    "                 file_name=\"hnm_7w.txt\",\n",
    "                 customer_list=filtered_customers, \n",
    "                 transactions=transactions, \n",
    "                 item_dict=item_dict, \n",
    "                 prod_dict=df_prod,\n",
    "                 original_product_name=True,\n",
    "                 write_product_meta=True)"
   ]
  },
  {
   "cell_type": "code",
   "execution_count": 24,
   "metadata": {},
   "outputs": [
    {
     "data": {
      "text/plain": [
       "1004187"
      ]
     },
     "execution_count": 24,
     "metadata": {},
     "output_type": "execute_result"
    }
   ],
   "source": [
    "df_ss = pd.read_csv(os.path.join(data_dir, \"sample_submission.csv\"))\n",
    "ss_custs = set(df_ss['customer_id'].unique())\n",
    "extra_custs = ss_custs - set(filtered_customers)\n",
    "len(extra_custs)"
   ]
  },
  {
   "cell_type": "code",
   "execution_count": 13,
   "metadata": {},
   "outputs": [],
   "source": [
    "dummy_pred = '0924243001 0924243002 0923758001 0918522001 0909370001 0866731001 0751471001 0915529003 0915529005 0448509014 0762846027 0714790020'"
   ]
  },
  {
   "cell_type": "code",
   "execution_count": 25,
   "metadata": {},
   "outputs": [
    {
     "name": "stdout",
     "output_type": "stream",
     "text": [
      "(367793, 12)\n"
     ]
    },
    {
     "name": "stderr",
     "output_type": "stream",
     "text": [
      "100%|██████████| 35084/35084 [02:27<00:00, 238.38it/s]\n"
     ]
    },
    {
     "data": {
      "text/html": [
       "<div>\n",
       "<style scoped>\n",
       "    .dataframe tbody tr th:only-of-type {\n",
       "        vertical-align: middle;\n",
       "    }\n",
       "\n",
       "    .dataframe tbody tr th {\n",
       "        vertical-align: top;\n",
       "    }\n",
       "\n",
       "    .dataframe thead th {\n",
       "        text-align: right;\n",
       "    }\n",
       "</style>\n",
       "<table border=\"1\" class=\"dataframe\">\n",
       "  <thead>\n",
       "    <tr style=\"text-align: right;\">\n",
       "      <th></th>\n",
       "      <th>customer_id</th>\n",
       "      <th>prediction</th>\n",
       "    </tr>\n",
       "  </thead>\n",
       "  <tbody>\n",
       "    <tr>\n",
       "      <th>0</th>\n",
       "      <td>00000dbacae5abe5e23885899a1fa44253a17956c6d1c3...</td>\n",
       "      <td>0762846029 0783346001 0921226001 0783346001 08...</td>\n",
       "    </tr>\n",
       "    <tr>\n",
       "      <th>1</th>\n",
       "      <td>000058a12d5b43e67d225668fa1f8d618c13dc232df0ca...</td>\n",
       "      <td>0905518002 0918292001 0918292004 0918292001 07...</td>\n",
       "    </tr>\n",
       "    <tr>\n",
       "      <th>2</th>\n",
       "      <td>00006413d8573cd20ed7128e53b7b13819fe5cfc2d801f...</td>\n",
       "      <td>0912204001 0918292004 0918292004 0918292004 09...</td>\n",
       "    </tr>\n",
       "    <tr>\n",
       "      <th>3</th>\n",
       "      <td>0000757967448a6cb83efb3ea7a3fb9d418ac7adf2379d...</td>\n",
       "      <td>0706016003 0706016003 0706016003 0706016003 07...</td>\n",
       "    </tr>\n",
       "    <tr>\n",
       "      <th>4</th>\n",
       "      <td>00009d946eec3ea54add5ba56d5210ea898def4b46c685...</td>\n",
       "      <td>0714032003 0570003081 0714032003 0843614015 08...</td>\n",
       "    </tr>\n",
       "    <tr>\n",
       "      <th>...</th>\n",
       "      <td>...</td>\n",
       "      <td>...</td>\n",
       "    </tr>\n",
       "    <tr>\n",
       "      <th>1371975</th>\n",
       "      <td>b4d51d8e2e1d2bebdccd24699306b0f796f5ea19e454a1...</td>\n",
       "      <td>0924243001 0924243002 0923758001 0918522001 09...</td>\n",
       "    </tr>\n",
       "    <tr>\n",
       "      <th>1371976</th>\n",
       "      <td>e0bc7e9cb17cf36f0e5687128f2fc9176822c8aa32fa25...</td>\n",
       "      <td>0924243001 0924243002 0923758001 0918522001 09...</td>\n",
       "    </tr>\n",
       "    <tr>\n",
       "      <th>1371977</th>\n",
       "      <td>9b3fbff7ea2350034d01aadf0602d6e570fbd7ad37dd52...</td>\n",
       "      <td>0924243001 0924243002 0923758001 0918522001 09...</td>\n",
       "    </tr>\n",
       "    <tr>\n",
       "      <th>1371978</th>\n",
       "      <td>06a1daaf2bd70a20d696f09211c818994bc47d274e7624...</td>\n",
       "      <td>0924243001 0924243002 0923758001 0918522001 09...</td>\n",
       "    </tr>\n",
       "    <tr>\n",
       "      <th>1371979</th>\n",
       "      <td>8779d1da3b4f72309786b6b66e8609d521fab5d47a0878...</td>\n",
       "      <td>0924243001 0924243002 0923758001 0918522001 09...</td>\n",
       "    </tr>\n",
       "  </tbody>\n",
       "</table>\n",
       "<p>1371980 rows × 2 columns</p>\n",
       "</div>"
      ],
      "text/plain": [
       "                                               customer_id  \\\n",
       "0        00000dbacae5abe5e23885899a1fa44253a17956c6d1c3...   \n",
       "1        000058a12d5b43e67d225668fa1f8d618c13dc232df0ca...   \n",
       "2        00006413d8573cd20ed7128e53b7b13819fe5cfc2d801f...   \n",
       "3        0000757967448a6cb83efb3ea7a3fb9d418ac7adf2379d...   \n",
       "4        00009d946eec3ea54add5ba56d5210ea898def4b46c685...   \n",
       "...                                                    ...   \n",
       "1371975  b4d51d8e2e1d2bebdccd24699306b0f796f5ea19e454a1...   \n",
       "1371976  e0bc7e9cb17cf36f0e5687128f2fc9176822c8aa32fa25...   \n",
       "1371977  9b3fbff7ea2350034d01aadf0602d6e570fbd7ad37dd52...   \n",
       "1371978  06a1daaf2bd70a20d696f09211c818994bc47d274e7624...   \n",
       "1371979  8779d1da3b4f72309786b6b66e8609d521fab5d47a0878...   \n",
       "\n",
       "                                                prediction  \n",
       "0        0762846029 0783346001 0921226001 0783346001 08...  \n",
       "1        0905518002 0918292001 0918292004 0918292001 07...  \n",
       "2        0912204001 0918292004 0918292004 0918292004 09...  \n",
       "3        0706016003 0706016003 0706016003 0706016003 07...  \n",
       "4        0714032003 0570003081 0714032003 0843614015 08...  \n",
       "...                                                    ...  \n",
       "1371975  0924243001 0924243002 0923758001 0918522001 09...  \n",
       "1371976  0924243001 0924243002 0923758001 0918522001 09...  \n",
       "1371977  0924243001 0924243002 0923758001 0918522001 09...  \n",
       "1371978  0924243001 0924243002 0923758001 0918522001 09...  \n",
       "1371979  0924243001 0924243002 0923758001 0918522001 09...  \n",
       "\n",
       "[1371980 rows x 2 columns]"
      ]
     },
     "execution_count": 25,
     "metadata": {},
     "output_type": "execute_result"
    }
   ],
   "source": [
    "res_dir = \"/recsys_data/RecSys/TransformerRec\"\n",
    "res_path = \"hnm_7w_transformer/result.pkl\"\n",
    "sub_file = \"submission_6.txt\"\n",
    "\n",
    "res_df = create_submission_file(res_dir, res_path, sub_file, item_dict, filtered_customers, extra_custs, dummy_pred)\n",
    "res_df"
   ]
  },
  {
   "cell_type": "code",
   "execution_count": 26,
   "metadata": {},
   "outputs": [
    {
     "name": "stdout",
     "output_type": "stream",
     "text": [
      "100%|████████████████████████████████████████| 258M/258M [00:05<00:00, 51.3MB/s]\n",
      "Successfully submitted to H&M Personalized Fashion Recommendations"
     ]
    }
   ],
   "source": [
    "! kaggle competitions submit -c h-and-m-personalized-fashion-recommendations -f /recsys_data/RecSys/TransformerRec/submission_6.txt -m \"attempt-12\""
   ]
  },
  {
   "cell_type": "code",
   "execution_count": null,
   "metadata": {},
   "outputs": [],
   "source": []
  },
  {
   "cell_type": "code",
   "execution_count": 9,
   "metadata": {},
   "outputs": [
    {
     "data": {
      "text/html": [
       "<div>\n",
       "<style scoped>\n",
       "    .dataframe tbody tr th:only-of-type {\n",
       "        vertical-align: middle;\n",
       "    }\n",
       "\n",
       "    .dataframe tbody tr th {\n",
       "        vertical-align: top;\n",
       "    }\n",
       "\n",
       "    .dataframe thead th {\n",
       "        text-align: right;\n",
       "    }\n",
       "</style>\n",
       "<table border=\"1\" class=\"dataframe\">\n",
       "  <thead>\n",
       "    <tr style=\"text-align: right;\">\n",
       "      <th></th>\n",
       "      <th>customer_id</th>\n",
       "      <th>FN</th>\n",
       "      <th>Active</th>\n",
       "      <th>club_member_status</th>\n",
       "      <th>fashion_news_frequency</th>\n",
       "      <th>age</th>\n",
       "      <th>postal_code</th>\n",
       "    </tr>\n",
       "  </thead>\n",
       "  <tbody>\n",
       "    <tr>\n",
       "      <th>0</th>\n",
       "      <td>00000dbacae5abe5e23885899a1fa44253a17956c6d1c3...</td>\n",
       "      <td>NaN</td>\n",
       "      <td>NaN</td>\n",
       "      <td>ACTIVE</td>\n",
       "      <td>NONE</td>\n",
       "      <td>49.0</td>\n",
       "      <td>52043ee2162cf5aa7ee79974281641c6f11a68d276429a...</td>\n",
       "    </tr>\n",
       "    <tr>\n",
       "      <th>1</th>\n",
       "      <td>0000423b00ade91418cceaf3b26c6af3dd342b51fd051e...</td>\n",
       "      <td>NaN</td>\n",
       "      <td>NaN</td>\n",
       "      <td>ACTIVE</td>\n",
       "      <td>NONE</td>\n",
       "      <td>25.0</td>\n",
       "      <td>2973abc54daa8a5f8ccfe9362140c63247c5eee03f1d93...</td>\n",
       "    </tr>\n",
       "    <tr>\n",
       "      <th>2</th>\n",
       "      <td>000058a12d5b43e67d225668fa1f8d618c13dc232df0ca...</td>\n",
       "      <td>NaN</td>\n",
       "      <td>NaN</td>\n",
       "      <td>ACTIVE</td>\n",
       "      <td>NONE</td>\n",
       "      <td>24.0</td>\n",
       "      <td>64f17e6a330a85798e4998f62d0930d14db8db1c054af6...</td>\n",
       "    </tr>\n",
       "    <tr>\n",
       "      <th>3</th>\n",
       "      <td>00005ca1c9ed5f5146b52ac8639a40ca9d57aeff4d1bd2...</td>\n",
       "      <td>NaN</td>\n",
       "      <td>NaN</td>\n",
       "      <td>ACTIVE</td>\n",
       "      <td>NONE</td>\n",
       "      <td>54.0</td>\n",
       "      <td>5d36574f52495e81f019b680c843c443bd343d5ca5b1c2...</td>\n",
       "    </tr>\n",
       "    <tr>\n",
       "      <th>4</th>\n",
       "      <td>00006413d8573cd20ed7128e53b7b13819fe5cfc2d801f...</td>\n",
       "      <td>1.0</td>\n",
       "      <td>1.0</td>\n",
       "      <td>ACTIVE</td>\n",
       "      <td>Regularly</td>\n",
       "      <td>52.0</td>\n",
       "      <td>25fa5ddee9aac01b35208d01736e57942317d756b32ddd...</td>\n",
       "    </tr>\n",
       "    <tr>\n",
       "      <th>...</th>\n",
       "      <td>...</td>\n",
       "      <td>...</td>\n",
       "      <td>...</td>\n",
       "      <td>...</td>\n",
       "      <td>...</td>\n",
       "      <td>...</td>\n",
       "      <td>...</td>\n",
       "    </tr>\n",
       "    <tr>\n",
       "      <th>1371975</th>\n",
       "      <td>ffffbbf78b6eaac697a8a5dfbfd2bfa8113ee5b403e474...</td>\n",
       "      <td>NaN</td>\n",
       "      <td>NaN</td>\n",
       "      <td>ACTIVE</td>\n",
       "      <td>NONE</td>\n",
       "      <td>24.0</td>\n",
       "      <td>7aa399f7e669990daba2d92c577b52237380662f36480b...</td>\n",
       "    </tr>\n",
       "    <tr>\n",
       "      <th>1371976</th>\n",
       "      <td>ffffcd5046a6143d29a04fb8c424ce494a76e5cdf4fab5...</td>\n",
       "      <td>NaN</td>\n",
       "      <td>NaN</td>\n",
       "      <td>ACTIVE</td>\n",
       "      <td>NONE</td>\n",
       "      <td>21.0</td>\n",
       "      <td>3f47f1279beb72215f4de557d950e0bfa73789d24acb5e...</td>\n",
       "    </tr>\n",
       "    <tr>\n",
       "      <th>1371977</th>\n",
       "      <td>ffffcf35913a0bee60e8741cb2b4e78b8a98ee5ff2e6a1...</td>\n",
       "      <td>1.0</td>\n",
       "      <td>1.0</td>\n",
       "      <td>ACTIVE</td>\n",
       "      <td>Regularly</td>\n",
       "      <td>21.0</td>\n",
       "      <td>4563fc79215672cd6a863f2b4bf56b8f898f2d96ed590e...</td>\n",
       "    </tr>\n",
       "    <tr>\n",
       "      <th>1371978</th>\n",
       "      <td>ffffd7744cebcf3aca44ae7049d2a94b87074c3d4ffe38...</td>\n",
       "      <td>1.0</td>\n",
       "      <td>1.0</td>\n",
       "      <td>ACTIVE</td>\n",
       "      <td>Regularly</td>\n",
       "      <td>18.0</td>\n",
       "      <td>8892c18e9bc3dca6aa4000cb8094fc4b51ee8db2ed14d7...</td>\n",
       "    </tr>\n",
       "    <tr>\n",
       "      <th>1371979</th>\n",
       "      <td>ffffd9ac14e89946416d80e791d064701994755c3ab686...</td>\n",
       "      <td>NaN</td>\n",
       "      <td>NaN</td>\n",
       "      <td>PRE-CREATE</td>\n",
       "      <td>NONE</td>\n",
       "      <td>65.0</td>\n",
       "      <td>0a1a03306fb2f62164c2a439b38c0caa64b40deaae8687...</td>\n",
       "    </tr>\n",
       "  </tbody>\n",
       "</table>\n",
       "<p>1371980 rows × 7 columns</p>\n",
       "</div>"
      ],
      "text/plain": [
       "                                               customer_id   FN  Active  \\\n",
       "0        00000dbacae5abe5e23885899a1fa44253a17956c6d1c3...  NaN     NaN   \n",
       "1        0000423b00ade91418cceaf3b26c6af3dd342b51fd051e...  NaN     NaN   \n",
       "2        000058a12d5b43e67d225668fa1f8d618c13dc232df0ca...  NaN     NaN   \n",
       "3        00005ca1c9ed5f5146b52ac8639a40ca9d57aeff4d1bd2...  NaN     NaN   \n",
       "4        00006413d8573cd20ed7128e53b7b13819fe5cfc2d801f...  1.0     1.0   \n",
       "...                                                    ...  ...     ...   \n",
       "1371975  ffffbbf78b6eaac697a8a5dfbfd2bfa8113ee5b403e474...  NaN     NaN   \n",
       "1371976  ffffcd5046a6143d29a04fb8c424ce494a76e5cdf4fab5...  NaN     NaN   \n",
       "1371977  ffffcf35913a0bee60e8741cb2b4e78b8a98ee5ff2e6a1...  1.0     1.0   \n",
       "1371978  ffffd7744cebcf3aca44ae7049d2a94b87074c3d4ffe38...  1.0     1.0   \n",
       "1371979  ffffd9ac14e89946416d80e791d064701994755c3ab686...  NaN     NaN   \n",
       "\n",
       "        club_member_status fashion_news_frequency   age  \\\n",
       "0                   ACTIVE                   NONE  49.0   \n",
       "1                   ACTIVE                   NONE  25.0   \n",
       "2                   ACTIVE                   NONE  24.0   \n",
       "3                   ACTIVE                   NONE  54.0   \n",
       "4                   ACTIVE              Regularly  52.0   \n",
       "...                    ...                    ...   ...   \n",
       "1371975             ACTIVE                   NONE  24.0   \n",
       "1371976             ACTIVE                   NONE  21.0   \n",
       "1371977             ACTIVE              Regularly  21.0   \n",
       "1371978             ACTIVE              Regularly  18.0   \n",
       "1371979         PRE-CREATE                   NONE  65.0   \n",
       "\n",
       "                                               postal_code  \n",
       "0        52043ee2162cf5aa7ee79974281641c6f11a68d276429a...  \n",
       "1        2973abc54daa8a5f8ccfe9362140c63247c5eee03f1d93...  \n",
       "2        64f17e6a330a85798e4998f62d0930d14db8db1c054af6...  \n",
       "3        5d36574f52495e81f019b680c843c443bd343d5ca5b1c2...  \n",
       "4        25fa5ddee9aac01b35208d01736e57942317d756b32ddd...  \n",
       "...                                                    ...  \n",
       "1371975  7aa399f7e669990daba2d92c577b52237380662f36480b...  \n",
       "1371976  3f47f1279beb72215f4de557d950e0bfa73789d24acb5e...  \n",
       "1371977  4563fc79215672cd6a863f2b4bf56b8f898f2d96ed590e...  \n",
       "1371978  8892c18e9bc3dca6aa4000cb8094fc4b51ee8db2ed14d7...  \n",
       "1371979  0a1a03306fb2f62164c2a439b38c0caa64b40deaae8687...  \n",
       "\n",
       "[1371980 rows x 7 columns]"
      ]
     },
     "execution_count": 9,
     "metadata": {},
     "output_type": "execute_result"
    }
   ],
   "source": [
    "df_cust = pd.read_csv(os.path.join(data_dir, \"customers.csv\"))\n",
    "df_cust"
   ]
  },
  {
   "cell_type": "markdown",
   "metadata": {},
   "source": [
    "## Collect Transaction Data per User"
   ]
  },
  {
   "cell_type": "code",
   "execution_count": 10,
   "metadata": {},
   "outputs": [
    {
     "name": "stderr",
     "output_type": "stream",
     "text": [
      "100%|██████████| 1362281/1362281 [20:17<00:00, 1118.70it/s]\n"
     ]
    },
    {
     "name": "stdout",
     "output_type": "stream",
     "text": [
      "Total 1362281 customers with average 20 products\n",
      "Total 104547 items\n"
     ]
    }
   ],
   "source": [
    "dfg = df_tr.groupby(\"customer_id\")\n",
    "cust_dict, prod_dict, transactions = {}, {}, {}\n",
    "count_cust, count_prod = 0, 0\n",
    "num_products = []\n",
    "for ckey, df_c in tqdm(dfg):\n",
    "    count_cust += 1\n",
    "    cust_dict[ckey] = count_cust\n",
    "    df_c = df_c.sort_values(by=['t_dat'])\n",
    "    products = df_c['article_id'].tolist()\n",
    "    dates = df_c['t_dat'].tolist()\n",
    "    transactions[ckey] = {'products': [], 'days': []}\n",
    "    for p in products:\n",
    "        if p in prod_dict:\n",
    "            prod_dict[p] += 1\n",
    "        else:\n",
    "            prod_dict[p] = 1\n",
    "    transactions[ckey]['products'].append(products)\n",
    "    transactions[ckey]['days'].append(dates)\n",
    "    num_products.append(len(df_c['article_id'].unique()))\n",
    "\n",
    "print(f\"Total {len(cust_dict)} customers with average {np.mean(num_products):.0f} products\")\n",
    "print(f\"Total {len(prod_dict)} items\")"
   ]
  },
  {
   "cell_type": "code",
   "execution_count": 12,
   "metadata": {},
   "outputs": [
    {
     "data": {
      "text/plain": [
       "customer_id\n",
       "00005ca1c9ed5f5146b52ac8639a40ca9d57aeff4d1bd2c5feb1ca5dff07c43e     2\n",
       "00006413d8573cd20ed7128e53b7b13819fe5cfc2d801fe7fc0f26dd8d65a85a    13\n",
       "000064249685c11552da43ef22a5030f35a147f723d5b02ddd9fd22452b1f5a6     3\n",
       "0000757967448a6cb83efb3ea7a3fb9d418ac7adf2379d8cd0c725276a467a2a     6\n",
       "00007e8d4e54114b5b2a9b51586325a8d0fa74ea23ef77334eaec4ffccd7ebcc     2\n",
       "                                                                    ..\n",
       "ffff8f9ecdce722b5bab97fff68a6d1866492209bfe5242c50d2a10a652fb5ef     9\n",
       "ffffa28cd7ab5d1cbbbfe7b582b1c419270cc0539f3dae5bdfa4cf4b5874c806     3\n",
       "ffffaff3905b803d1c7e153a1378a5151e1f34f236ba5451afc7cf3f699c5690     1\n",
       "ffffd7744cebcf3aca44ae7049d2a94b87074c3d4ffe38b2236865d949d4df6a     7\n",
       "ffffd9ac14e89946416d80e791d064701994755c3ab686a1eaf3458c36f52241     1\n",
       "Name: article_id, Length: 803935, dtype: int64"
      ]
     },
     "execution_count": 12,
     "metadata": {},
     "output_type": "execute_result"
    }
   ],
   "source": [
    "count_prods = dfg['article_id'].count()\n",
    "count_prods[count_prods<=13]"
   ]
  },
  {
   "cell_type": "code",
   "execution_count": 13,
   "metadata": {},
   "outputs": [
    {
     "data": {
      "text/html": [
       "<div>\n",
       "<style scoped>\n",
       "    .dataframe tbody tr th:only-of-type {\n",
       "        vertical-align: middle;\n",
       "    }\n",
       "\n",
       "    .dataframe tbody tr th {\n",
       "        vertical-align: top;\n",
       "    }\n",
       "\n",
       "    .dataframe thead th {\n",
       "        text-align: right;\n",
       "    }\n",
       "</style>\n",
       "<table border=\"1\" class=\"dataframe\">\n",
       "  <thead>\n",
       "    <tr style=\"text-align: right;\">\n",
       "      <th></th>\n",
       "      <th>article_id</th>\n",
       "    </tr>\n",
       "    <tr>\n",
       "      <th>customer_id</th>\n",
       "      <th></th>\n",
       "    </tr>\n",
       "  </thead>\n",
       "  <tbody>\n",
       "    <tr>\n",
       "      <th>00000dbacae5abe5e23885899a1fa44253a17956c6d1c3d25f88aa139fdfc657</th>\n",
       "      <td>21</td>\n",
       "    </tr>\n",
       "    <tr>\n",
       "      <th>0000423b00ade91418cceaf3b26c6af3dd342b51fd051eec9c12fb36984420fa</th>\n",
       "      <td>86</td>\n",
       "    </tr>\n",
       "    <tr>\n",
       "      <th>000058a12d5b43e67d225668fa1f8d618c13dc232df0cad8ffe7ad4a1091e318</th>\n",
       "      <td>18</td>\n",
       "    </tr>\n",
       "    <tr>\n",
       "      <th>00005ca1c9ed5f5146b52ac8639a40ca9d57aeff4d1bd2c5feb1ca5dff07c43e</th>\n",
       "      <td>2</td>\n",
       "    </tr>\n",
       "    <tr>\n",
       "      <th>00006413d8573cd20ed7128e53b7b13819fe5cfc2d801fe7fc0f26dd8d65a85a</th>\n",
       "      <td>13</td>\n",
       "    </tr>\n",
       "    <tr>\n",
       "      <th>...</th>\n",
       "      <td>...</td>\n",
       "    </tr>\n",
       "    <tr>\n",
       "      <th>ffffbbf78b6eaac697a8a5dfbfd2bfa8113ee5b403e4747568cac33e8c541831</th>\n",
       "      <td>51</td>\n",
       "    </tr>\n",
       "    <tr>\n",
       "      <th>ffffcd5046a6143d29a04fb8c424ce494a76e5cdf4fab53481233731b5c4f8b7</th>\n",
       "      <td>84</td>\n",
       "    </tr>\n",
       "    <tr>\n",
       "      <th>ffffcf35913a0bee60e8741cb2b4e78b8a98ee5ff2e6a1778d0116cffd259264</th>\n",
       "      <td>45</td>\n",
       "    </tr>\n",
       "    <tr>\n",
       "      <th>ffffd7744cebcf3aca44ae7049d2a94b87074c3d4ffe38b2236865d949d4df6a</th>\n",
       "      <td>7</td>\n",
       "    </tr>\n",
       "    <tr>\n",
       "      <th>ffffd9ac14e89946416d80e791d064701994755c3ab686a1eaf3458c36f52241</th>\n",
       "      <td>1</td>\n",
       "    </tr>\n",
       "  </tbody>\n",
       "</table>\n",
       "<p>1362281 rows × 1 columns</p>\n",
       "</div>"
      ],
      "text/plain": [
       "                                                    article_id\n",
       "customer_id                                                   \n",
       "00000dbacae5abe5e23885899a1fa44253a17956c6d1c3d...          21\n",
       "0000423b00ade91418cceaf3b26c6af3dd342b51fd051ee...          86\n",
       "000058a12d5b43e67d225668fa1f8d618c13dc232df0cad...          18\n",
       "00005ca1c9ed5f5146b52ac8639a40ca9d57aeff4d1bd2c...           2\n",
       "00006413d8573cd20ed7128e53b7b13819fe5cfc2d801fe...          13\n",
       "...                                                        ...\n",
       "ffffbbf78b6eaac697a8a5dfbfd2bfa8113ee5b403e4747...          51\n",
       "ffffcd5046a6143d29a04fb8c424ce494a76e5cdf4fab53...          84\n",
       "ffffcf35913a0bee60e8741cb2b4e78b8a98ee5ff2e6a17...          45\n",
       "ffffd7744cebcf3aca44ae7049d2a94b87074c3d4ffe38b...           7\n",
       "ffffd9ac14e89946416d80e791d064701994755c3ab686a...           1\n",
       "\n",
       "[1362281 rows x 1 columns]"
      ]
     },
     "execution_count": 13,
     "metadata": {},
     "output_type": "execute_result"
    }
   ],
   "source": [
    "count_df = pd.DataFrame(count_prods)\n",
    "count_df"
   ]
  },
  {
   "cell_type": "code",
   "execution_count": 34,
   "metadata": {},
   "outputs": [
    {
     "data": {
      "text/plain": [
       "[<matplotlib.lines.Line2D at 0x7f6d35c9aa50>]"
      ]
     },
     "execution_count": 34,
     "metadata": {},
     "output_type": "execute_result"
    },
    {
     "data": {
      "image/png": "[encoded data removed]",
      "text/plain": [
       "<Figure size 576x432 with 1 Axes>"
      ]
     },
     "metadata": {
      "needs_background": "light"
     },
     "output_type": "display_data"
    }
   ],
   "source": [
    "from scipy import stats\n",
    "import numpy as np\n",
    "import matplotlib.pyplot as plt\n",
    "\n",
    "%matplotlib inline\n",
    "\n",
    "# N = 100\n",
    "# x = np.random.randint(0, 9, N)\n",
    "bins = np.arange(200)\n",
    "\n",
    "kde = stats.gaussian_kde(count_prods)\n",
    "xx = np.linspace(0, 200, 1000)\n",
    "fig, ax = plt.subplots(figsize=(8,6))\n",
    "ax.hist(count_prods, density=True, bins=bins, alpha=0.3)\n",
    "ax.plot(xx, kde(xx))"
   ]
  },
  {
   "cell_type": "code",
   "execution_count": 36,
   "metadata": {},
   "outputs": [
    {
     "name": "stdout",
     "output_type": "stream",
     "text": [
      "1 1895\n"
     ]
    },
    {
     "data": {
      "image/png": "[encoded data removed]",
      "text/plain": [
       "<Figure size 432x288 with 1 Axes>"
      ]
     },
     "metadata": {
      "needs_background": "light"
     },
     "output_type": "display_data"
    }
   ],
   "source": [
    "import seaborn as sns\n",
    "\n",
    "fig, ax1 = plt.subplots()\n",
    "sns.kdeplot(data=count_df, x=\"article_id\", ax=ax1)\n",
    "ax1.set_xlim((count_df[\"article_id\"].min(), 100))\n",
    "print(count_df[\"article_id\"].min(), count_df[\"article_id\"].max())"
   ]
  },
  {
   "cell_type": "markdown",
   "metadata": {},
   "source": [
    "## Write the original data "
   ]
  },
  {
   "cell_type": "code",
   "execution_count": 14,
   "metadata": {},
   "outputs": [],
   "source": [
    "item_counts = [(k, prod_dict[k]) for k in prod_dict]\n",
    "item_counts = sorted(item_counts, key=lambda x: x[1], reverse=True)\n",
    "item_dict = {k[0]: ii+1 for ii, k in enumerate(item_counts)}"
   ]
  },
  {
   "cell_type": "code",
   "execution_count": 15,
   "metadata": {},
   "outputs": [
    {
     "name": "stderr",
     "output_type": "stream",
     "text": [
      "100%|██████████| 1362281/1362281 [11:18<00:00, 2008.79it/s]\n"
     ]
    },
    {
     "name": "stdout",
     "output_type": "stream",
     "text": [
      "Written 31788324 lines in /recsys_data/RecSys/h_and_m_personalized_fashion_recommendation/hnm_big.txt, 1362281 users and 104547 items\n",
      "Sequence length, min: 1, averag: 23.334630667241193 and max: 1895\n"
     ]
    }
   ],
   "source": [
    "pattern = '%Y-%m-%d %H:%M:%S'\n",
    "colsep = \"\\t\"\n",
    "\n",
    "count = 0\n",
    "user_id = 0\n",
    "seq_lens = []\n",
    "out_file = os.path.join(data_dir, \"hnm_big.txt\")\n",
    "with open(out_file, 'w') as fw:\n",
    "    for cust in tqdm(transactions.keys()):\n",
    "        items = transactions[cust]['products'][0]\n",
    "        user_id += 1\n",
    "        dates = transactions[cust]['days'][0]\n",
    "        prods = [item_dict[ii] for ii in items]\n",
    "        epochs = [int(time.mktime(time.strptime(str(date_time), pattern))) for date_time in dates]\n",
    "        epochs = [e-epochs[0] for e in epochs]\n",
    "        seq_lens.append(len(prods))\n",
    "        for p, t in zip(prods, epochs):\n",
    "            fw.write(colsep.join([str(user_id), str(p), str(t)])+'\\n')\n",
    "            count += 1\n",
    "print(f\"Written {count} lines in {out_file}, {user_id} users and {len(item_dict)} items\")\n",
    "print(f\"Sequence length, min: {np.min(seq_lens)}, averag: {np.mean(seq_lens)} and max: {np.max(seq_lens)}\")"
   ]
  },
  {
   "cell_type": "markdown",
   "metadata": {},
   "source": [
    "### Remove items with few transactions"
   ]
  },
  {
   "cell_type": "code",
   "execution_count": 14,
   "metadata": {},
   "outputs": [
    {
     "name": "stdout",
     "output_type": "stream",
     "text": [
      "Original 1362281 customers, remaining 1362281 customers\n",
      "104547 items in filtered sequences\n",
      "Original 104547 items, remaining 104547 items\n",
      "[(706016001, 50287), (706016002, 35043), (372860001, 31718), (610776002, 30199), (759871002, 26329)]\n",
      "Item-ids range from 1, ... 104547\n"
     ]
    }
   ],
   "source": [
    "min_item_count = 2\n",
    "min_seq_len = 1\n",
    "\n",
    "filtered_customers = list(count_prods[count_prods>=min_seq_len].index)\n",
    "print(f\"Original {len(count_prods)} customers, remaining {len(filtered_customers)} customers\")\n",
    "\n",
    "all_seqs = [transactions[cust]['products'][0] for cust in filtered_customers]\n",
    "seq_prods = set([item for sublist in all_seqs for item in sublist])\n",
    "print(f\"{len(seq_prods)} items in filtered sequences\")\n",
    "\n",
    "# items from the interactions and items based on overall number of interactions\n",
    "# filtered_items = set([k for k in prod_dict if prod_dict[k] >= min_item_count or k in seq_prods])\n",
    "\n",
    "# items solely based on the considered interactions - tighter bounds\n",
    "filtered_items = set([k for k in prod_dict if k in seq_prods])\n",
    "print(f\"Original {len(prod_dict)} items, remaining {len(filtered_items)} items\")\n",
    "\n",
    "# get the item counts so that most frequent item gets lowest id\n",
    "item_counts = [(k, prod_dict[k]) for k in prod_dict if k in filtered_items]\n",
    "item_counts = sorted(item_counts, key=lambda x: x[1], reverse=True)\n",
    "print(item_counts[:5])\n",
    "\n",
    "# create the item-dict, starting from 1\n",
    "item_dict = {k[0]: ii+1 for ii, k in enumerate(item_counts)}\n",
    "item_ids = list(item_dict.values())\n",
    "print(f\"Item-ids range from {min(item_ids)}, ... {max(item_ids)}\")"
   ]
  },
  {
   "cell_type": "code",
   "execution_count": 51,
   "metadata": {},
   "outputs": [
    {
     "name": "stderr",
     "output_type": "stream",
     "text": [
      "100%|██████████| 1362281/1362281 [48:29<00:00, 468.21it/s]\n"
     ]
    },
    {
     "name": "stdout",
     "output_type": "stream",
     "text": [
      "Written 31788324 lines in /recsys_data/RecSys/h_and_m_personalized_fashion_recommendation/hnm_big_train_addl2.txt, 1362281 users and 104547 items\n",
      "Sequence length, min: 1, averag: 23.334630667241193 and max: 1895\n"
     ]
    }
   ],
   "source": [
    "pattern = '%Y-%m-%d %H:%M:%S'\n",
    "colsep = \"\\t\"\n",
    "write_product_meta = True\n",
    "count = 0\n",
    "user_id = 0\n",
    "seq_lens = []\n",
    "if write_product_meta:\n",
    "    out_file = os.path.join(data_dir, \"hnm_big_train_addl2.txt\")\n",
    "else:\n",
    "    out_file = os.path.join(data_dir, \"hnm_big_train.txt\")\n",
    "\n",
    "\"\"\"\n",
    "{'product_code': 663713,\n",
    " 'prod_name': 'Atlanta Push Body Harlow',\n",
    " 'product_type_no': 283,\n",
    " 'product_type_name': 'Underwear body',\n",
    " 'product_group_name': 'Underwear',\n",
    " 'graphical_appearance_no': 1010016,\n",
    " 'graphical_appearance_name': 'Solid',\n",
    " 'colour_group_code': 9,\n",
    " 'colour_group_name': 'Black',\n",
    " 'perceived_colour_value_id': 4,\n",
    " 'perceived_colour_value_name': 'Dark',\n",
    " 'perceived_colour_master_id': 5,\n",
    " 'perceived_colour_master_name': 'Black',\n",
    " 'department_no': 1338,\n",
    " 'department_name': 'Expressive Lingerie',\n",
    " 'index_code': 'B',\n",
    " 'index_name': 'Lingeries/Tights',\n",
    " 'index_group_no': 1,\n",
    " 'index_group_name': 'Ladieswear',\n",
    " 'section_no': 61,\n",
    " 'section_name': 'Womens Lingerie',\n",
    " 'garment_group_no': 1017,\n",
    " 'garment_group_name': 'Under-, Nightwear',\n",
    " 'detail_desc': 'Lace push-up body with underwired, moulded, padded cups for a larger bust and fuller cleavage. Narrow, adjustable shoulder straps, an opening with a hook-and-eye fastening at the back and a lined gusset with concealed press-studs.'}\n",
    "\n",
    "\"\"\"    \n",
    "\n",
    "include_meta = ['product_type_name', 'product_group_name', 'graphical_appearance_name', \n",
    "                'colour_group_name', 'department_name', 'index_name', \n",
    "                'index_group_name', 'section_name', 'garment_group_name'\n",
    "               ]\n",
    "\n",
    "with open(out_file, 'w') as fw:\n",
    "    for cust in tqdm(filtered_customers):\n",
    "        items = transactions[cust]['products'][0]\n",
    "        user_id += 1\n",
    "        dates = transactions[cust]['days'][0]\n",
    "        prods = [item_dict[ii] for ii in items]\n",
    "        \n",
    "        epochs = [int(time.mktime(time.strptime(str(date_time), pattern))) for date_time in dates] # in seconds\n",
    "        epochs = [int((e-epochs[0])/86400.) for e in epochs]\n",
    "        seq_lens.append(len(prods))\n",
    "\n",
    "        if write_product_meta:\n",
    "            meta_info = {}\n",
    "            meta_info['user_id'] = user_id\n",
    "            meta_info['article_id'] = prods\n",
    "            for jj in include_meta:\n",
    "                data_ij = [df_prod[ii][jj] for ii in items]\n",
    "                meta_info[jj] = data_ij\n",
    "                \n",
    "            meta_info['epochs'] = epochs\n",
    "            meta_info = pd.DataFrame(meta_info)\n",
    "            meta_info.to_csv(fw, sep=colsep, header=False, index=False)\n",
    "            count += len(meta_info)\n",
    "                \n",
    "#             for index, row in meta_info.iterrows():\n",
    "#                 out = [str(ii) for ii in row]\n",
    "#                 out = colsep.join(out)\n",
    "#                 fw.write(out + \"\\n\")\n",
    "#                 count += 1\n",
    "                \n",
    "            # other associated data, df_prod has all the product information\n",
    "#             pt_names = [df_prod[ii]['product_type_name'] for ii in items]\n",
    "#             dp_names = [df_prod[ii]['department_name'] for ii in items]\n",
    "#             ig_names = [df_prod[ii]['index_group_name'] for ii in items]\n",
    "#             gg_names = [df_prod[ii]['garment_group_name'] for ii in items]\n",
    "        \n",
    "            # product-id, metadata and time\n",
    "#             for p, pt, dp, ig, gg, t in zip(prods, pt_names, dp_names, ig_names, gg_names, epochs):\n",
    "#                 fw.write(colsep.join([str(user_id), str(p), str(pt), str(dp), str(ig), str(gg), str(t)])+'\\n')\n",
    "#                 count += 1\n",
    "\n",
    "        else:\n",
    "            # only product-id and time\n",
    "            for p, t in zip(prods, epochs):\n",
    "                fw.write(colsep.join([str(user_id), str(p), str(t)])+'\\n')\n",
    "                count += 1\n",
    "\n",
    "print(f\"Written {count} lines in {out_file}, {user_id} users and {len(item_dict)} items\")\n",
    "print(f\"Sequence length, min: {np.min(seq_lens)}, averag: {np.mean(seq_lens)} and max: {np.max(seq_lens)}\")"
   ]
  },
  {
   "cell_type": "code",
   "execution_count": 48,
   "metadata": {},
   "outputs": [
    {
     "data": {
      "text/plain": [
       "'1\\t29950\\tJacket\\tGarment Upper body\\tSolid\\tDark Blue\\tYoung Boy Outdoor\\tChildren Sizes 134-170\\tBaby/Children\\tKids Outerwear\\tOutdoor\\t0'"
      ]
     },
     "execution_count": 48,
     "metadata": {},
     "output_type": "execute_result"
    }
   ],
   "source": [
    "out"
   ]
  },
  {
   "cell_type": "code",
   "execution_count": 75,
   "metadata": {},
   "outputs": [],
   "source": [
    "# exmpl = [df_prod[ii]['garment_group_name'] for ii in items]\n",
    "# ['_'.join(ex.split()) for ex in exmpl]"
   ]
  },
  {
   "cell_type": "code",
   "execution_count": 112,
   "metadata": {},
   "outputs": [],
   "source": [
    "# from argparse import Namespace\n",
    "from types import SimpleNamespace\n",
    "from collections import defaultdict\n",
    "import tensorflow as tf\n",
    "from sklearn.model_selection import train_test_split"
   ]
  },
  {
   "cell_type": "code",
   "execution_count": 138,
   "metadata": {},
   "outputs": [],
   "source": [
    "def create_dataset(data_dir, args):\n",
    "    \"\"\"\n",
    "    Creates train-validation-test data sets from interaction data.\n",
    "    Random split between train-validation based on certain percentage.\n",
    "\n",
    "    We want to predict the next few items (pre-decided) without\n",
    "    using any negative sampling.\n",
    "    \"\"\"\n",
    "    inp_file = os.path.join(data_dir, args.dataset + \".txt\")\n",
    "    sample = pd.read_csv(inp_file, sep=args.colsep, nrows=5)\n",
    "    ncol = sample.shape[1]\n",
    "    if ncol == 1:\n",
    "        raise ValueError(\"Not enough data to unpack!!\")\n",
    "\n",
    "    num_prod_dim = ncol - 3  # other than u, i, t\n",
    "    if num_prod_dim > 0:\n",
    "        prod_dict = [{} for _ in range(num_prod_dim)]\n",
    "\n",
    "    def get_ids(elems):\n",
    "        ids = []\n",
    "        for ii, e in enumerate(elems):\n",
    "            if e not in prod_dict[ii]:\n",
    "                prod_dict[ii][e] = len(prod_dict[ii]) + 1\n",
    "            ids.append(prod_dict[ii][e])\n",
    "        return ids\n",
    "    \n",
    "\n",
    "    usernum = 0\n",
    "    itemnum = 0\n",
    "    User = defaultdict(list)\n",
    "    test_X = []\n",
    "    count = 0\n",
    "    with open(inp_file, \"r\") as fr:\n",
    "        for line in tqdm(fr):\n",
    "            if ncol == 2:\n",
    "                u, i = line.rstrip().split(args.colsep)\n",
    "            elif ncol == 3:\n",
    "                u, i, _ = line.rstrip().split(args.colsep)\n",
    "            elif ncol >= 4:\n",
    "                elems = line.rstrip().split(args.colsep)\n",
    "                u, i, t = elems[0], elems[1], elems[-1]\n",
    "                pdims = elems[2:-1]\n",
    "                pids = get_ids(pdims)\n",
    "            else:\n",
    "                raise ValueError(\"Unknown number of columns\")\n",
    "            u = int(u)\n",
    "            i = int(i)\n",
    "            usernum = max(u, usernum)\n",
    "            itemnum = max(i, itemnum)\n",
    "            if ncol >= 4:\n",
    "                User[u].append([i]+pids)\n",
    "            else:\n",
    "                User[u].append(i)\n",
    "            count += 1\n",
    "            if count > 1000:\n",
    "                break\n",
    "\n",
    "    print(len(User))\n",
    "    all_X, all_y = [], []\n",
    "    for user in User:\n",
    "        nfeedback = len(User[user])\n",
    "        test_X.append(User[user])  # entire sequence, all users\n",
    "        if nfeedback < args.tgt_seq_len:\n",
    "            continue\n",
    "        else:\n",
    "            all_X.append(User[user][: -args.tgt_seq_len])\n",
    "            all_y.append(User[user][-args.tgt_seq_len :])\n",
    "\n",
    "    all_X = tf.keras.preprocessing.sequence.pad_sequences(\n",
    "        all_X, padding=\"pre\", truncating=\"pre\", maxlen=args.maxlen\n",
    "    )\n",
    "    \n",
    "    all_y = np.array(all_y)\n",
    "    all_y = all_y[:, :, 0]\n",
    "    print(all_y.shape)\n",
    "    \n",
    "    test_X = tf.keras.preprocessing.sequence.pad_sequences(\n",
    "        test_X, padding=\"pre\", truncating=\"pre\", maxlen=args.maxlen\n",
    "    )\n",
    "\n",
    "    X_train, X_valid, y_train, y_valid = train_test_split(\n",
    "        all_X, all_y, test_size=0.20, random_state=42\n",
    "    )\n",
    "\n",
    "    y_train = np.array(y_train)\n",
    "    y_valid = np.array(y_valid)\n",
    "\n",
    "    return X_train, y_train, X_valid, y_valid, test_X, usernum, itemnum, prod_dict\n"
   ]
  },
  {
   "cell_type": "code",
   "execution_count": 139,
   "metadata": {},
   "outputs": [
    {
     "name": "stderr",
     "output_type": "stream",
     "text": [
      "1000it [00:00, 251743.83it/s]"
     ]
    },
    {
     "name": "stdout",
     "output_type": "stream",
     "text": [
      "20\n",
      "(20, 12)\n",
      "(16, 12, 5) (16, 12) (4, 12, 5) (4, 12) (20, 12, 5)\n"
     ]
    },
    {
     "name": "stderr",
     "output_type": "stream",
     "text": [
      "\n"
     ]
    }
   ],
   "source": [
    "args = SimpleNamespace(colsep=\"\\t\", \n",
    "                       dataset='hnm_big_train_addl',\n",
    "                       maxlen=12,\n",
    "                       tgt_seq_len=12\n",
    "                      )\n",
    "\n",
    "X_train, y_train, X_valid, y_valid, test_X, usernum, itemnum, meta_dict = create_dataset(data_dir, args)\n",
    "print(X_train.shape, y_train.shape, X_valid.shape, y_valid.shape, test_X.shape)"
   ]
  },
  {
   "cell_type": "code",
   "execution_count": 22,
   "metadata": {},
   "outputs": [
    {
     "data": {
      "text/plain": [
       "(44671, (588423001, 100))"
      ]
     },
     "execution_count": 22,
     "metadata": {},
     "output_type": "execute_result"
    }
   ],
   "source": [
    "len(item_dict), item_counts[-1]"
   ]
  },
  {
   "cell_type": "markdown",
   "metadata": {},
   "source": [
    "### Create Smaller Samples"
   ]
  },
  {
   "cell_type": "code",
   "execution_count": 26,
   "metadata": {},
   "outputs": [],
   "source": [
    "import random"
   ]
  },
  {
   "cell_type": "code",
   "execution_count": 68,
   "metadata": {},
   "outputs": [
    {
     "name": "stdout",
     "output_type": "stream",
     "text": [
      "Written 208856 lines in /recsys_data/RecSys/h_and_m_personalized_fashion_recommendation/hnm_sample.txt, 4644 users and 44163 items\n",
      "Sequence length, min: 11, averag: 44.97329888027562 and max: 658\n"
     ]
    }
   ],
   "source": [
    "random.seed(100)\n",
    "pattern = '%Y-%m-%d %H:%M:%S'\n",
    "colsep = \"\\t\"\n",
    "min_seq_len = 10\n",
    "\n",
    "num_users = 10000\n",
    "item_set = set()\n",
    "all_users = list(transactions.keys())\n",
    "sample_users = random.choices(all_users, k=num_users)\n",
    "\n",
    "count = 0\n",
    "user_id = 0\n",
    "item_id = 0\n",
    "sample_user_dict, sample_item_dict = {}, {}\n",
    "seq_lens = []\n",
    "out_file = os.path.join(data_dir, \"hnm_sample.txt\")\n",
    "with open(out_file, 'w') as fw:\n",
    "    for cust in sample_users:\n",
    "        items = transactions[cust]['products'][0]\n",
    "        if len(items) > min_seq_len:\n",
    "            user_id += 1\n",
    "            dates = transactions[cust]['days'][0]\n",
    "            for item in items:\n",
    "                if item not in sample_item_dict:\n",
    "                    item_id += 1\n",
    "                    sample_item_dict[item] = item_id\n",
    "            prods = [sample_item_dict[ii] for ii in items]\n",
    "            epochs = [int(time.mktime(time.strptime(str(date_time), pattern))) for date_time in dates]\n",
    "            seq_lens.append(len(prods))\n",
    "            for p, t in zip(prods, epochs):\n",
    "                fw.write(colsep.join([str(user_id), str(p), str(t)])+'\\n')\n",
    "                count += 1\n",
    "print(f\"Written {count} lines in {out_file}, {user_id} users and {item_id} items\")\n",
    "print(f\"Sequence length, min: {np.min(seq_lens)}, averag: {np.mean(seq_lens)} and max: {np.max(seq_lens)}\")"
   ]
  },
  {
   "cell_type": "markdown",
   "metadata": {},
   "source": [
    "### Write in SASRec Format"
   ]
  },
  {
   "cell_type": "code",
   "execution_count": 24,
   "metadata": {},
   "outputs": [
    {
     "name": "stderr",
     "output_type": "stream",
     "text": [
      "100%|██████████| 1362281/1362281 [11:32<00:00, 1967.32it/s]"
     ]
    },
    {
     "name": "stdout",
     "output_type": "stream",
     "text": [
      "Written 28765113 lines in /recsys_data/RecSys/h_and_m_personalized_fashion_recommendation/hnm_small.txt\n"
     ]
    },
    {
     "name": "stderr",
     "output_type": "stream",
     "text": [
      "\n"
     ]
    }
   ],
   "source": [
    "out_file = os.path.join(data_dir, \"hnm_small.txt\")\n",
    "pattern = '%Y-%m-%d %H:%M:%S'\n",
    "colsep = \"\\t\"\n",
    "count = 0\n",
    "min_seq_len = 10\n",
    "with open(out_file, 'w') as fw:\n",
    "    for cust in tqdm(transactions.keys()):\n",
    "        cid = cust_dict[cust]\n",
    "        # keep only the items that are present in the dictionary\n",
    "#         prods = [item_dict[p] for p in transactions[cust]['products'][0] if p in filtered_items]\n",
    "        \n",
    "        # add additional OOV token for products not present in the dictionary\n",
    "        prods = [item_dict[p] if p in filtered_items else len(item_dict)+1 for p in transactions[cust]['products'][0]]\n",
    "        dates = transactions[cust]['days'][0]\n",
    "        epochs = [int(time.mktime(time.strptime(str(date_time), pattern))) for date_time in dates]\n",
    "        if len(prods) > min_seq_len:\n",
    "            for p, t in zip(prods, epochs):\n",
    "                fw.write(colsep.join([str(cid), str(p), str(t)])+'\\n')\n",
    "                count += 1\n",
    "print(f\"Written {count} lines in {out_file}\")"
   ]
  },
  {
   "cell_type": "code",
   "execution_count": 37,
   "metadata": {},
   "outputs": [
    {
     "name": "stdout",
     "output_type": "stream",
     "text": [
      "  31788324 /recsys_data/RecSys/h_and_m_personalized_fashion_recommendation/hnm.txt\n",
      "     22278 /recsys_data/RecSys/h_and_m_personalized_fashion_recommendation/hnm_sample.txt\n",
      "  28765113 /recsys_data/RecSys/h_and_m_personalized_fashion_recommendation/hnm_small.txt\n",
      "  60575715 total\n"
     ]
    }
   ],
   "source": [
    "! wc -l /recsys_data/RecSys/h_and_m_personalized_fashion_recommendation/hnm*.txt"
   ]
  },
  {
   "cell_type": "markdown",
   "metadata": {},
   "source": [
    "### Sample Submission"
   ]
  },
  {
   "cell_type": "code",
   "execution_count": 16,
   "metadata": {},
   "outputs": [
    {
     "data": {
      "text/html": [
       "<div>\n",
       "<style scoped>\n",
       "    .dataframe tbody tr th:only-of-type {\n",
       "        vertical-align: middle;\n",
       "    }\n",
       "\n",
       "    .dataframe tbody tr th {\n",
       "        vertical-align: top;\n",
       "    }\n",
       "\n",
       "    .dataframe thead th {\n",
       "        text-align: right;\n",
       "    }\n",
       "</style>\n",
       "<table border=\"1\" class=\"dataframe\">\n",
       "  <thead>\n",
       "    <tr style=\"text-align: right;\">\n",
       "      <th></th>\n",
       "      <th>customer_id</th>\n",
       "      <th>prediction</th>\n",
       "    </tr>\n",
       "  </thead>\n",
       "  <tbody>\n",
       "    <tr>\n",
       "      <th>0</th>\n",
       "      <td>00000dbacae5abe5e23885899a1fa44253a17956c6d1c3...</td>\n",
       "      <td>0706016001 0706016002 0372860001 0610776002 07...</td>\n",
       "    </tr>\n",
       "    <tr>\n",
       "      <th>1</th>\n",
       "      <td>0000423b00ade91418cceaf3b26c6af3dd342b51fd051e...</td>\n",
       "      <td>0706016001 0706016002 0372860001 0610776002 07...</td>\n",
       "    </tr>\n",
       "    <tr>\n",
       "      <th>2</th>\n",
       "      <td>000058a12d5b43e67d225668fa1f8d618c13dc232df0ca...</td>\n",
       "      <td>0706016001 0706016002 0372860001 0610776002 07...</td>\n",
       "    </tr>\n",
       "    <tr>\n",
       "      <th>3</th>\n",
       "      <td>00005ca1c9ed5f5146b52ac8639a40ca9d57aeff4d1bd2...</td>\n",
       "      <td>0706016001 0706016002 0372860001 0610776002 07...</td>\n",
       "    </tr>\n",
       "    <tr>\n",
       "      <th>4</th>\n",
       "      <td>00006413d8573cd20ed7128e53b7b13819fe5cfc2d801f...</td>\n",
       "      <td>0706016001 0706016002 0372860001 0610776002 07...</td>\n",
       "    </tr>\n",
       "    <tr>\n",
       "      <th>...</th>\n",
       "      <td>...</td>\n",
       "      <td>...</td>\n",
       "    </tr>\n",
       "    <tr>\n",
       "      <th>1371975</th>\n",
       "      <td>ffffbbf78b6eaac697a8a5dfbfd2bfa8113ee5b403e474...</td>\n",
       "      <td>0706016001 0706016002 0372860001 0610776002 07...</td>\n",
       "    </tr>\n",
       "    <tr>\n",
       "      <th>1371976</th>\n",
       "      <td>ffffcd5046a6143d29a04fb8c424ce494a76e5cdf4fab5...</td>\n",
       "      <td>0706016001 0706016002 0372860001 0610776002 07...</td>\n",
       "    </tr>\n",
       "    <tr>\n",
       "      <th>1371977</th>\n",
       "      <td>ffffcf35913a0bee60e8741cb2b4e78b8a98ee5ff2e6a1...</td>\n",
       "      <td>0706016001 0706016002 0372860001 0610776002 07...</td>\n",
       "    </tr>\n",
       "    <tr>\n",
       "      <th>1371978</th>\n",
       "      <td>ffffd7744cebcf3aca44ae7049d2a94b87074c3d4ffe38...</td>\n",
       "      <td>0706016001 0706016002 0372860001 0610776002 07...</td>\n",
       "    </tr>\n",
       "    <tr>\n",
       "      <th>1371979</th>\n",
       "      <td>ffffd9ac14e89946416d80e791d064701994755c3ab686...</td>\n",
       "      <td>0706016001 0706016002 0372860001 0610776002 07...</td>\n",
       "    </tr>\n",
       "  </tbody>\n",
       "</table>\n",
       "<p>1371980 rows × 2 columns</p>\n",
       "</div>"
      ],
      "text/plain": [
       "                                               customer_id  \\\n",
       "0        00000dbacae5abe5e23885899a1fa44253a17956c6d1c3...   \n",
       "1        0000423b00ade91418cceaf3b26c6af3dd342b51fd051e...   \n",
       "2        000058a12d5b43e67d225668fa1f8d618c13dc232df0ca...   \n",
       "3        00005ca1c9ed5f5146b52ac8639a40ca9d57aeff4d1bd2...   \n",
       "4        00006413d8573cd20ed7128e53b7b13819fe5cfc2d801f...   \n",
       "...                                                    ...   \n",
       "1371975  ffffbbf78b6eaac697a8a5dfbfd2bfa8113ee5b403e474...   \n",
       "1371976  ffffcd5046a6143d29a04fb8c424ce494a76e5cdf4fab5...   \n",
       "1371977  ffffcf35913a0bee60e8741cb2b4e78b8a98ee5ff2e6a1...   \n",
       "1371978  ffffd7744cebcf3aca44ae7049d2a94b87074c3d4ffe38...   \n",
       "1371979  ffffd9ac14e89946416d80e791d064701994755c3ab686...   \n",
       "\n",
       "                                                prediction  \n",
       "0        0706016001 0706016002 0372860001 0610776002 07...  \n",
       "1        0706016001 0706016002 0372860001 0610776002 07...  \n",
       "2        0706016001 0706016002 0372860001 0610776002 07...  \n",
       "3        0706016001 0706016002 0372860001 0610776002 07...  \n",
       "4        0706016001 0706016002 0372860001 0610776002 07...  \n",
       "...                                                    ...  \n",
       "1371975  0706016001 0706016002 0372860001 0610776002 07...  \n",
       "1371976  0706016001 0706016002 0372860001 0610776002 07...  \n",
       "1371977  0706016001 0706016002 0372860001 0610776002 07...  \n",
       "1371978  0706016001 0706016002 0372860001 0610776002 07...  \n",
       "1371979  0706016001 0706016002 0372860001 0610776002 07...  \n",
       "\n",
       "[1371980 rows x 2 columns]"
      ]
     },
     "execution_count": 16,
     "metadata": {},
     "output_type": "execute_result"
    }
   ],
   "source": [
    "df_ss = pd.read_csv(os.path.join(data_dir, \"sample_submission.csv\"))\n",
    "df_ss"
   ]
  },
  {
   "cell_type": "code",
   "execution_count": 52,
   "metadata": {},
   "outputs": [
    {
     "data": {
      "text/plain": [
       "(1371980, 1362281)"
      ]
     },
     "execution_count": 52,
     "metadata": {},
     "output_type": "execute_result"
    }
   ],
   "source": [
    "len(df_ss['customer_id'].unique()), len(df_tr['customer_id'].unique())"
   ]
  },
  {
   "cell_type": "code",
   "execution_count": 19,
   "metadata": {},
   "outputs": [
    {
     "data": {
      "text/plain": [
       "9699"
      ]
     },
     "execution_count": 19,
     "metadata": {},
     "output_type": "execute_result"
    }
   ],
   "source": [
    "ss_custs = set(df_ss['customer_id'].unique())\n",
    "extra_custs = ss_custs - set(df_tr['customer_id'].unique())\n",
    "len(extra_custs)"
   ]
  },
  {
   "cell_type": "markdown",
   "metadata": {},
   "source": [
    "### Read Results and Prepare Submission File"
   ]
  },
  {
   "cell_type": "code",
   "execution_count": 33,
   "metadata": {},
   "outputs": [
    {
     "name": "stdout",
     "output_type": "stream",
     "text": [
      "(1362281, 12)\n"
     ]
    }
   ],
   "source": [
    "import pickle\n",
    "\n",
    "res_dir = \"/recsys_data/RecSys/TransformerRec\"\n",
    "res_path = \"hnm_big_train_addl_train/result.pkl\"\n",
    "# res_path = \"hnm_big_train_train/result.pkl\"\n",
    "\n",
    "with open(os.path.join(res_dir, res_path), 'rb') as fr:\n",
    "    pred = pickle.load(fr)\n",
    "    \n",
    "print(pred.shape)"
   ]
  },
  {
   "cell_type": "code",
   "execution_count": 34,
   "metadata": {},
   "outputs": [
    {
     "data": {
      "text/plain": [
       "array([[  165, 11385, 11385,  6068,  6068,  6068,  6068,  6068,  6068,\n",
       "         6068,  6068, 64844],\n",
       "       [  100,   100,   100,   100,   100,   100,   100,   100,   878,\n",
       "          878,   100,    83],\n",
       "       [21222, 21222,  8182,  8182,  8182,  9707,  9707,    21,    21,\n",
       "           21,  5603,  1241],\n",
       "       [   11,    11,    11,    11,    11,    11,    11,    11,    11,\n",
       "           11,    11,    11],\n",
       "       [ 2050,  2050,  2050,  2050,  2050,  7123,  7123,  7123,  7123,\n",
       "         7123,  7123,    21]])"
      ]
     },
     "execution_count": 34,
     "metadata": {},
     "output_type": "execute_result"
    }
   ],
   "source": [
    "pred[:5]"
   ]
  },
  {
   "cell_type": "code",
   "execution_count": 22,
   "metadata": {},
   "outputs": [],
   "source": [
    "inv_item_dict = {v: k for k, v in item_dict.items()}  # for smaller set of products\n",
    "# inv_prod_dict = {v: k for k, v in prod_dict.items()}  # for all the products"
   ]
  },
  {
   "cell_type": "code",
   "execution_count": 23,
   "metadata": {},
   "outputs": [
    {
     "data": {
      "text/plain": [
       "(104547, 104547)"
      ]
     },
     "execution_count": 23,
     "metadata": {},
     "output_type": "execute_result"
    }
   ],
   "source": [
    "len(item_dict), len(inv_item_dict)"
   ]
  },
  {
   "cell_type": "code",
   "execution_count": 24,
   "metadata": {},
   "outputs": [],
   "source": [
    "most_frequent_item = 706016001"
   ]
  },
  {
   "cell_type": "code",
   "execution_count": 91,
   "metadata": {},
   "outputs": [
    {
     "data": {
      "text/plain": [
       "706016001"
      ]
     },
     "execution_count": 91,
     "metadata": {},
     "output_type": "execute_result"
    }
   ],
   "source": [
    "global_item_counts = [(k, prod_dict[k]) for k in prod_dict]\n",
    "global_item_counts = sorted(global_item_counts, key=lambda x: x[1], reverse=True)\n",
    "most_frequent_item = global_item_counts[0][0]\n",
    "most_frequent_item"
   ]
  },
  {
   "cell_type": "code",
   "execution_count": 143,
   "metadata": {},
   "outputs": [
    {
     "data": {
      "text/plain": [
       "(1362281,\n",
       " '00000dbacae5abe5e23885899a1fa44253a17956c6d1c3d25f88aa139fdfc657',\n",
       " 'ffffd9ac14e89946416d80e791d064701994755c3ab686a1eaf3458c36f52241')"
      ]
     },
     "execution_count": 143,
     "metadata": {},
     "output_type": "execute_result"
    }
   ],
   "source": [
    "len(filtered_customers), filtered_customers[0], filtered_customers[-1]"
   ]
  },
  {
   "cell_type": "code",
   "execution_count": 147,
   "metadata": {},
   "outputs": [
    {
     "data": {
      "text/plain": [
       "706016001"
      ]
     },
     "execution_count": 147,
     "metadata": {},
     "output_type": "execute_result"
    }
   ],
   "source": [
    "inv_item_dict[1]"
   ]
  },
  {
   "cell_type": "code",
   "execution_count": 35,
   "metadata": {},
   "outputs": [
    {
     "name": "stderr",
     "output_type": "stream",
     "text": [
      "100%|██████████| 104547/104547 [31:06<00:00, 56.01it/s]\n"
     ]
    }
   ],
   "source": [
    "# first map the prediction to product-ids - takes half an hour\n",
    "from numpy import copy\n",
    "\n",
    "pred2 = copy(pred)\n",
    "for k in tqdm(inv_item_dict): \n",
    "    pred2[pred==k] = inv_item_dict[k]"
   ]
  },
  {
   "cell_type": "code",
   "execution_count": 26,
   "metadata": {},
   "outputs": [
    {
     "data": {
      "text/plain": [
       "array([[762846008, 751471001, 751471001, 751471001, 751471001, 751471001,\n",
       "        751471001, 751471001, 751471001, 751471001, 751471001, 751471001],\n",
       "       [599580055, 599580055, 599580055, 599580055, 599580055, 599580055,\n",
       "        599580055, 599580055, 599580055, 599580055, 599580055, 599580038],\n",
       "       [781758057, 781758057, 781758057, 751471043, 751471043, 889661001,\n",
       "        889661001, 751471043, 751471043, 751471043, 751471043, 751471043],\n",
       "       [708021001, 720125001, 720125001, 720125001, 720125001, 720125001,\n",
       "        720125001, 720125001, 720125001, 720125001, 720125001, 720125001],\n",
       "       [912204001, 912204001, 912204001, 912204001, 912204001, 912204001,\n",
       "        912204001, 912204001, 730683050, 912204001, 912204001, 915529003]])"
      ]
     },
     "execution_count": 26,
     "metadata": {},
     "output_type": "execute_result"
    }
   ],
   "source": [
    "pred2[:5]"
   ]
  },
  {
   "cell_type": "code",
   "execution_count": 27,
   "metadata": {},
   "outputs": [],
   "source": [
    "def id2string(row):\n",
    "    return ' '.join(['0'+str(ii) for ii in row])\n"
   ]
  },
  {
   "cell_type": "code",
   "execution_count": 36,
   "metadata": {},
   "outputs": [
    {
     "data": {
      "text/plain": [
       "((1362281,), (9699,), (1371980,))"
      ]
     },
     "execution_count": 36,
     "metadata": {},
     "output_type": "execute_result"
    }
   ],
   "source": [
    "pred_extra = np.ones((len(extra_custs), 12), dtype=int) * most_frequent_item\n",
    "pred3 = np.apply_along_axis(id2string, 1, pred2)\n",
    "pred_extra2 = np.apply_along_axis(id2string, 1, pred_extra)\n",
    "\n",
    "pred_all = np.concatenate((pred3, pred_extra2), axis=0)\n",
    "pred3.shape, pred_extra2.shape, pred_all.shape"
   ]
  },
  {
   "cell_type": "code",
   "execution_count": 37,
   "metadata": {},
   "outputs": [
    {
     "data": {
      "text/plain": [
       "1371980"
      ]
     },
     "execution_count": 37,
     "metadata": {},
     "output_type": "execute_result"
    }
   ],
   "source": [
    "all_custs = filtered_customers + list(extra_custs)\n",
    "len(all_custs)"
   ]
  },
  {
   "cell_type": "code",
   "execution_count": 38,
   "metadata": {},
   "outputs": [
    {
     "data": {
      "text/html": [
       "<div>\n",
       "<style scoped>\n",
       "    .dataframe tbody tr th:only-of-type {\n",
       "        vertical-align: middle;\n",
       "    }\n",
       "\n",
       "    .dataframe tbody tr th {\n",
       "        vertical-align: top;\n",
       "    }\n",
       "\n",
       "    .dataframe thead th {\n",
       "        text-align: right;\n",
       "    }\n",
       "</style>\n",
       "<table border=\"1\" class=\"dataframe\">\n",
       "  <thead>\n",
       "    <tr style=\"text-align: right;\">\n",
       "      <th></th>\n",
       "      <th>customer_id</th>\n",
       "      <th>prediction</th>\n",
       "    </tr>\n",
       "  </thead>\n",
       "  <tbody>\n",
       "    <tr>\n",
       "      <th>0</th>\n",
       "      <td>00000dbacae5abe5e23885899a1fa44253a17956c6d1c3...</td>\n",
       "      <td>0762846006 0857778011 0857778011 0867969003 08...</td>\n",
       "    </tr>\n",
       "    <tr>\n",
       "      <th>1</th>\n",
       "      <td>0000423b00ade91418cceaf3b26c6af3dd342b51fd051e...</td>\n",
       "      <td>0599580055 0599580055 0599580055 0599580055 05...</td>\n",
       "    </tr>\n",
       "    <tr>\n",
       "      <th>2</th>\n",
       "      <td>000058a12d5b43e67d225668fa1f8d618c13dc232df0ca...</td>\n",
       "      <td>0710876035 0710876035 0889456001 0889456001 08...</td>\n",
       "    </tr>\n",
       "    <tr>\n",
       "      <th>3</th>\n",
       "      <td>00005ca1c9ed5f5146b52ac8639a40ca9d57aeff4d1bd2...</td>\n",
       "      <td>0720125001 0720125001 0720125001 0720125001 07...</td>\n",
       "    </tr>\n",
       "    <tr>\n",
       "      <th>4</th>\n",
       "      <td>00006413d8573cd20ed7128e53b7b13819fe5cfc2d801f...</td>\n",
       "      <td>0912204001 0912204001 0912204001 0912204001 09...</td>\n",
       "    </tr>\n",
       "  </tbody>\n",
       "</table>\n",
       "</div>"
      ],
      "text/plain": [
       "                                         customer_id  \\\n",
       "0  00000dbacae5abe5e23885899a1fa44253a17956c6d1c3...   \n",
       "1  0000423b00ade91418cceaf3b26c6af3dd342b51fd051e...   \n",
       "2  000058a12d5b43e67d225668fa1f8d618c13dc232df0ca...   \n",
       "3  00005ca1c9ed5f5146b52ac8639a40ca9d57aeff4d1bd2...   \n",
       "4  00006413d8573cd20ed7128e53b7b13819fe5cfc2d801f...   \n",
       "\n",
       "                                          prediction  \n",
       "0  0762846006 0857778011 0857778011 0867969003 08...  \n",
       "1  0599580055 0599580055 0599580055 0599580055 05...  \n",
       "2  0710876035 0710876035 0889456001 0889456001 08...  \n",
       "3  0720125001 0720125001 0720125001 0720125001 07...  \n",
       "4  0912204001 0912204001 0912204001 0912204001 09...  "
      ]
     },
     "execution_count": 38,
     "metadata": {},
     "output_type": "execute_result"
    }
   ],
   "source": [
    "res_df = pd.DataFrame({\"customer_id\": all_custs, \"prediction\": pred_all})\n",
    "res_df.head()"
   ]
  },
  {
   "cell_type": "code",
   "execution_count": 39,
   "metadata": {},
   "outputs": [],
   "source": [
    "res_df.to_csv(os.path.join(res_dir, \"submission_4.txt\"), header=True, index=False)"
   ]
  },
  {
   "cell_type": "markdown",
   "metadata": {},
   "source": [
    "### Upload to Kaggle"
   ]
  },
  {
   "cell_type": "code",
   "execution_count": 40,
   "metadata": {},
   "outputs": [
    {
     "name": "stdout",
     "output_type": "stream",
     "text": [
      "100%|████████████████████████████████████████| 258M/258M [00:08<00:00, 32.5MB/s]\n",
      "Successfully submitted to H&M Personalized Fashion Recommendations"
     ]
    }
   ],
   "source": [
    "! kaggle competitions submit -c h-and-m-personalized-fashion-recommendations -f /recsys_data/RecSys/TransformerRec/submission_4.txt -m \"attempt-4\""
   ]
  },
  {
   "cell_type": "markdown",
   "metadata": {},
   "source": [
    "#### Takes too long to write like this"
   ]
  },
  {
   "cell_type": "code",
   "execution_count": null,
   "metadata": {},
   "outputs": [],
   "source": [
    "with open(os.path.join(res_dir, \"submission_3.txt\"), 'w') as fw:\n",
    "    fw.write(','.join(['customer_id', 'prediction'])+'\\n')\n",
    "    count = -1\n",
    "    for cust in tqdm(ss_custs):\n",
    "        # customers in the training scope\n",
    "        if cust in filtered_customers:\n",
    "            count += 1\n",
    "            iids = pred2[count]\n",
    "#             iids = [inv_item_dict[ii] for ii in iids]\n",
    "\n",
    "        # customers currently *not* in training data\n",
    "        else:\n",
    "            iids = [most_frequent_item]*12\n",
    "            \n",
    "        all_prods = ' '.join(['0'+str(ii) for ii in iids])\n",
    "        \n",
    "        fw.write(','.join([cust, all_prods])+'\\n')\n"
   ]
  },
  {
   "cell_type": "markdown",
   "metadata": {},
   "source": [
    "### Baseline: All predictions are the most frequent product"
   ]
  },
  {
   "cell_type": "code",
   "execution_count": 103,
   "metadata": {},
   "outputs": [
    {
     "name": "stderr",
     "output_type": "stream",
     "text": [
      "100%|██████████| 1371980/1371980 [00:06<00:00, 218109.28it/s]\n"
     ]
    }
   ],
   "source": [
    "# baseline - all products are the most frequent product\n",
    "with open(os.path.join(res_dir, \"submission_2.txt\"), 'w') as fw:\n",
    "    fw.write(','.join(['customer_id', 'prediction'])+'\\n')\n",
    "    count = -1\n",
    "    for cust in tqdm(ss_custs):\n",
    "        iids = [most_frequent_item]*12    \n",
    "        all_prods = ' '.join(['0'+str(ii) for ii in iids])\n",
    "        fw.write(','.join([cust, all_prods])+'\\n')\n"
   ]
  },
  {
   "cell_type": "code",
   "execution_count": 9,
   "metadata": {},
   "outputs": [
    {
     "data": {
      "text/plain": [
       "0"
      ]
     },
     "execution_count": 9,
     "metadata": {},
     "output_type": "execute_result"
    }
   ],
   "source": [
    "4%2"
   ]
  },
  {
   "cell_type": "code",
   "execution_count": null,
   "metadata": {},
   "outputs": [],
   "source": []
  }
 ],
 "metadata": {
  "kernelspec": {
   "display_name": "Python 3",
   "language": "python",
   "name": "python3"
  },
  "language_info": {
   "codemirror_mode": {
    "name": "ipython",
    "version": 3
   },
   "file_extension": ".py",
   "mimetype": "text/x-python",
   "name": "python",
   "nbconvert_exporter": "python",
   "pygments_lexer": "ipython3",
   "version": "3.7.7"
  }
 },
 "nbformat": 4,
 "nbformat_minor": 4
}
