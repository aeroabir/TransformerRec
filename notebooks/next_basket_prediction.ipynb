{
 "cells": [
  {
   "cell_type": "markdown",
   "metadata": {},
   "source": [
    "# H&M Data as Next Basket\n",
    "\n",
    "    - source: https://www.kaggle.com/c/h-and-m-personalized-fashion-recommendations/\n",
    "    - transactions in: transactions_train.csv\n",
    "    - customer information in: customers.csv\n",
    "    - product descriptions in: articles.csv\n",
    "    - product images are in: images/ folder by article-id\n",
    "    \n",
    "    - treat each customers 1-day interaction as baskets and predict the next basket"
   ]
  },
  {
   "cell_type": "code",
   "execution_count": 1,
   "metadata": {},
   "outputs": [],
   "source": [
    "%load_ext autoreload\n",
    "%autoreload 2"
   ]
  },
  {
   "cell_type": "code",
   "execution_count": 2,
   "metadata": {},
   "outputs": [],
   "source": [
    "import numpy as np\n",
    "import os\n",
    "import pandas as pd\n",
    "from tqdm import tqdm\n",
    "import time\n",
    "\n",
    "from scipy import stats\n",
    "import numpy as np\n",
    "import matplotlib.pyplot as plt\n",
    "\n",
    "%matplotlib inline\n",
    "\n",
    "from utils import write_train_file, create_submission_file"
   ]
  },
  {
   "cell_type": "code",
   "execution_count": 3,
   "metadata": {},
   "outputs": [],
   "source": [
    "data_dir = \"/recsys_data/RecSys/h_and_m_personalized_fashion_recommendation\""
   ]
  },
  {
   "cell_type": "code",
   "execution_count": 4,
   "metadata": {},
   "outputs": [],
   "source": [
    "df_tr = pd.read_csv(os.path.join(data_dir, \"transactions_train.csv\"), dtype={'article_id': str})\n",
    "df_tr['t_dat'] = pd.to_datetime(df_tr['t_dat'])"
   ]
  },
  {
   "cell_type": "code",
   "execution_count": 5,
   "metadata": {},
   "outputs": [
    {
     "name": "stdout",
     "output_type": "stream",
     "text": [
      "Total 1362281 customers and 104547 products\n"
     ]
    },
    {
     "data": {
      "text/plain": [
       "(Timestamp('2018-09-20 00:00:00'), Timestamp('2020-09-22 00:00:00'))"
      ]
     },
     "execution_count": 5,
     "metadata": {},
     "output_type": "execute_result"
    }
   ],
   "source": [
    "print(f\"Total {len(df_tr['customer_id'].unique())} customers and {len(df_tr['article_id'].unique())} products\")\n",
    "df_tr['t_dat'].min(), df_tr['t_dat'].max()"
   ]
  },
  {
   "cell_type": "code",
   "execution_count": 6,
   "metadata": {},
   "outputs": [
    {
     "name": "stdout",
     "output_type": "stream",
     "text": [
      "Total 196319 customers and 26583 products\n"
     ]
    }
   ],
   "source": [
    "tr_3w = df_tr[df_tr['t_dat'] >= pd.to_datetime('2020-08-31')].copy()  # last 3 weeks\n",
    "# tr_3w = df_tr[df_tr['t_dat'] >= pd.to_datetime('2020-07-31')].copy()  # last 7 weeks\n",
    "print(f\"Total {len(tr_3w['customer_id'].unique())} customers and {len(tr_3w['article_id'].unique())} products\")"
   ]
  },
  {
   "cell_type": "code",
   "execution_count": 57,
   "metadata": {},
   "outputs": [],
   "source": [
    "transactions_3w = df_tr[df_tr['t_dat'] >= pd.to_datetime('2020-08-31')].copy()  # last 3 weeks\n",
    "transactions_2w = df_tr[df_tr['t_dat'] >= pd.to_datetime('2020-09-07')].copy()  # last 2 weeks\n",
    "transactions_1w = df_tr[df_tr['t_dat'] >= pd.to_datetime('2020-09-15')].copy()  # one week before"
   ]
  },
  {
   "cell_type": "code",
   "execution_count": 58,
   "metadata": {},
   "outputs": [
    {
     "name": "stdout",
     "output_type": "stream",
     "text": [
      "196319\n"
     ]
    }
   ],
   "source": [
    "purchase_dict_3w = {}\n",
    "\n",
    "for i,x in enumerate(zip(transactions_3w['customer_id'], transactions_3w['article_id'])):\n",
    "    cust_id, art_id = x\n",
    "    if cust_id not in purchase_dict_3w:\n",
    "        purchase_dict_3w[cust_id] = {}\n",
    "    \n",
    "    if art_id not in purchase_dict_3w[cust_id]:\n",
    "        purchase_dict_3w[cust_id][art_id] = 0\n",
    "    \n",
    "    purchase_dict_3w[cust_id][art_id] += 1\n",
    "    \n",
    "print(len(purchase_dict_3w))\n",
    "\n",
    "dummy_list_3w = list((transactions_3w['article_id'].value_counts()).index)[:12]"
   ]
  },
  {
   "cell_type": "code",
   "execution_count": 59,
   "metadata": {},
   "outputs": [
    {
     "name": "stdout",
     "output_type": "stream",
     "text": [
      "143455\n"
     ]
    }
   ],
   "source": [
    "purchase_dict_2w = {}\n",
    "\n",
    "for i,x in enumerate(zip(transactions_2w['customer_id'], transactions_2w['article_id'])):\n",
    "    cust_id, art_id = x\n",
    "    if cust_id not in purchase_dict_2w:\n",
    "        purchase_dict_2w[cust_id] = {}\n",
    "    \n",
    "    if art_id not in purchase_dict_2w[cust_id]:\n",
    "        purchase_dict_2w[cust_id][art_id] = 0\n",
    "    \n",
    "    purchase_dict_2w[cust_id][art_id] += 1\n",
    "    \n",
    "print(len(purchase_dict_2w))\n",
    "\n",
    "dummy_list_2w = list((transactions_2w['article_id'].value_counts()).index)[:12]"
   ]
  },
  {
   "cell_type": "code",
   "execution_count": 60,
   "metadata": {},
   "outputs": [
    {
     "name": "stdout",
     "output_type": "stream",
     "text": [
      "75481\n"
     ]
    }
   ],
   "source": [
    "purchase_dict_1w = {}\n",
    "\n",
    "for i,x in enumerate(zip(transactions_1w['customer_id'], transactions_1w['article_id'])):\n",
    "    cust_id, art_id = x\n",
    "    if cust_id not in purchase_dict_1w:\n",
    "        purchase_dict_1w[cust_id] = {}\n",
    "    \n",
    "    if art_id not in purchase_dict_1w[cust_id]:\n",
    "        purchase_dict_1w[cust_id][art_id] = 0\n",
    "    \n",
    "    purchase_dict_1w[cust_id][art_id] += 1\n",
    "    \n",
    "print(len(purchase_dict_1w))\n",
    "\n",
    "dummy_list_1w = list((transactions_1w['article_id'].value_counts()).index)[:12]"
   ]
  },
  {
   "cell_type": "code",
   "execution_count": 7,
   "metadata": {},
   "outputs": [
    {
     "name": "stdout",
     "output_type": "stream",
     "text": [
      "Total 105542 products\n"
     ]
    }
   ],
   "source": [
    "df_prod = pd.read_csv(os.path.join(data_dir, \"articles.csv\"), dtype={'article_id': str, 'product_code': str})\n",
    "df_prod = df_prod.set_index('article_id').T.to_dict()\n",
    "print(f\"Total {len(df_prod)} products\")"
   ]
  },
  {
   "cell_type": "markdown",
   "metadata": {},
   "source": [
    "Create examples at basket levels?"
   ]
  },
  {
   "cell_type": "code",
   "execution_count": 37,
   "metadata": {},
   "outputs": [
    {
     "name": "stderr",
     "output_type": "stream",
     "text": [
      "100%|██████████| 196319/196319 [03:40<00:00, 891.92it/s] "
     ]
    },
    {
     "name": "stdout",
     "output_type": "stream",
     "text": [
      "Total 48709 customers with average 3 products per day\n",
      "Total 21712 items\n"
     ]
    },
    {
     "name": "stderr",
     "output_type": "stream",
     "text": [
      "\n"
     ]
    }
   ],
   "source": [
    "dfg = tr_3w.groupby(\"customer_id\")\n",
    "cust_dict, prod_dict, transactions = {}, {}, {}\n",
    "count_cust, count_prod = 0, 0\n",
    "num_products = []\n",
    "for ckey, df_c in tqdm(dfg):\n",
    "    df_c = df_c.sort_values(by=['t_dat'])\n",
    "    num_days = len(df_c['t_dat'].unique())\n",
    "    if num_days >= 2:\n",
    "        count_cust += 1\n",
    "        cust_dict[ckey] = count_cust\n",
    "        transactions[ckey] = {'products': [], 'days': [], 'sessions': 0}\n",
    "        df_cg = df_c.groupby(\"t_dat\")\n",
    "        for ii, df_ in df_cg:\n",
    "            products = df_['article_id'].tolist()\n",
    "            dates = df_['t_dat'].tolist()\n",
    "            for p in products:\n",
    "                if p in prod_dict:\n",
    "                    prod_dict[p] += 1\n",
    "                else:\n",
    "                    prod_dict[p] = 1\n",
    "            transactions[ckey]['products'].append(products)\n",
    "            transactions[ckey]['days'].append(dates)\n",
    "            transactions[ckey]['sessions'] += 1\n",
    "            num_products.append(len(df_['article_id'].unique()))\n",
    "\n",
    "print(f\"Total {len(cust_dict)} customers with average {np.mean(num_products):.0f} products per day\")\n",
    "print(f\"Total {len(prod_dict)} items\")"
   ]
  },
  {
   "cell_type": "code",
   "execution_count": 38,
   "metadata": {},
   "outputs": [
    {
     "data": {
      "text/plain": [
       "'0001d44dbe7f6c4b35200abdb052c77a87596fe1bdcc37e011580a479e80aa94'"
      ]
     },
     "execution_count": 38,
     "metadata": {},
     "output_type": "execute_result"
    }
   ],
   "source": [
    "filtered_customers = list(cust_dict.keys())\n",
    "filtered_customers[0]"
   ]
  },
  {
   "cell_type": "code",
   "execution_count": 45,
   "metadata": {},
   "outputs": [
    {
     "data": {
      "text/plain": [
       "{'products': [['0921073001'],\n",
       "  ['0777148006', '0835801001', '0923134005', '0865929003'],\n",
       "  ['0572998013', '0909869004', '0923134003'],\n",
       "  ['0935858001', '0888024005'],\n",
       "  ['0734592001']],\n",
       " 'days': [[Timestamp('2020-08-31 00:00:00')],\n",
       "  [Timestamp('2020-09-01 00:00:00'),\n",
       "   Timestamp('2020-09-01 00:00:00'),\n",
       "   Timestamp('2020-09-01 00:00:00'),\n",
       "   Timestamp('2020-09-01 00:00:00')],\n",
       "  [Timestamp('2020-09-05 00:00:00'),\n",
       "   Timestamp('2020-09-05 00:00:00'),\n",
       "   Timestamp('2020-09-05 00:00:00')],\n",
       "  [Timestamp('2020-09-07 00:00:00'), Timestamp('2020-09-07 00:00:00')],\n",
       "  [Timestamp('2020-09-14 00:00:00')]],\n",
       " 'sessions': 5}"
      ]
     },
     "execution_count": 45,
     "metadata": {},
     "output_type": "execute_result"
    }
   ],
   "source": [
    "transactions['0001d44dbe7f6c4b35200abdb052c77a87596fe1bdcc37e011580a479e80aa94']"
   ]
  },
  {
   "cell_type": "code",
   "execution_count": 36,
   "metadata": {},
   "outputs": [
    {
     "data": {
      "text/html": [
       "<div>\n",
       "<style scoped>\n",
       "    .dataframe tbody tr th:only-of-type {\n",
       "        vertical-align: middle;\n",
       "    }\n",
       "\n",
       "    .dataframe tbody tr th {\n",
       "        vertical-align: top;\n",
       "    }\n",
       "\n",
       "    .dataframe thead th {\n",
       "        text-align: right;\n",
       "    }\n",
       "</style>\n",
       "<table border=\"1\" class=\"dataframe\">\n",
       "  <thead>\n",
       "    <tr style=\"text-align: right;\">\n",
       "      <th></th>\n",
       "      <th>t_dat</th>\n",
       "      <th>customer_id</th>\n",
       "      <th>article_id</th>\n",
       "      <th>price</th>\n",
       "      <th>sales_channel_id</th>\n",
       "    </tr>\n",
       "  </thead>\n",
       "  <tbody>\n",
       "    <tr>\n",
       "      <th>30951947</th>\n",
       "      <td>2020-08-31</td>\n",
       "      <td>0001d44dbe7f6c4b35200abdb052c77a87596fe1bdcc37...</td>\n",
       "      <td>0921073001</td>\n",
       "      <td>0.050831</td>\n",
       "      <td>2</td>\n",
       "    </tr>\n",
       "    <tr>\n",
       "      <th>30990055</th>\n",
       "      <td>2020-09-01</td>\n",
       "      <td>0001d44dbe7f6c4b35200abdb052c77a87596fe1bdcc37...</td>\n",
       "      <td>0777148006</td>\n",
       "      <td>0.013542</td>\n",
       "      <td>1</td>\n",
       "    </tr>\n",
       "    <tr>\n",
       "      <th>30990056</th>\n",
       "      <td>2020-09-01</td>\n",
       "      <td>0001d44dbe7f6c4b35200abdb052c77a87596fe1bdcc37...</td>\n",
       "      <td>0835801001</td>\n",
       "      <td>0.018627</td>\n",
       "      <td>1</td>\n",
       "    </tr>\n",
       "    <tr>\n",
       "      <th>30990057</th>\n",
       "      <td>2020-09-01</td>\n",
       "      <td>0001d44dbe7f6c4b35200abdb052c77a87596fe1bdcc37...</td>\n",
       "      <td>0923134005</td>\n",
       "      <td>0.012695</td>\n",
       "      <td>1</td>\n",
       "    </tr>\n",
       "    <tr>\n",
       "      <th>30990058</th>\n",
       "      <td>2020-09-01</td>\n",
       "      <td>0001d44dbe7f6c4b35200abdb052c77a87596fe1bdcc37...</td>\n",
       "      <td>0865929003</td>\n",
       "      <td>0.016932</td>\n",
       "      <td>1</td>\n",
       "    </tr>\n",
       "    <tr>\n",
       "      <th>31140482</th>\n",
       "      <td>2020-09-05</td>\n",
       "      <td>0001d44dbe7f6c4b35200abdb052c77a87596fe1bdcc37...</td>\n",
       "      <td>0572998013</td>\n",
       "      <td>0.042356</td>\n",
       "      <td>2</td>\n",
       "    </tr>\n",
       "    <tr>\n",
       "      <th>31140483</th>\n",
       "      <td>2020-09-05</td>\n",
       "      <td>0001d44dbe7f6c4b35200abdb052c77a87596fe1bdcc37...</td>\n",
       "      <td>0909869004</td>\n",
       "      <td>0.025407</td>\n",
       "      <td>2</td>\n",
       "    </tr>\n",
       "    <tr>\n",
       "      <th>31140484</th>\n",
       "      <td>2020-09-05</td>\n",
       "      <td>0001d44dbe7f6c4b35200abdb052c77a87596fe1bdcc37...</td>\n",
       "      <td>0923134003</td>\n",
       "      <td>0.025407</td>\n",
       "      <td>2</td>\n",
       "    </tr>\n",
       "    <tr>\n",
       "      <th>31218444</th>\n",
       "      <td>2020-09-07</td>\n",
       "      <td>0001d44dbe7f6c4b35200abdb052c77a87596fe1bdcc37...</td>\n",
       "      <td>0935858001</td>\n",
       "      <td>0.016932</td>\n",
       "      <td>1</td>\n",
       "    </tr>\n",
       "    <tr>\n",
       "      <th>31218445</th>\n",
       "      <td>2020-09-07</td>\n",
       "      <td>0001d44dbe7f6c4b35200abdb052c77a87596fe1bdcc37...</td>\n",
       "      <td>0888024005</td>\n",
       "      <td>0.035576</td>\n",
       "      <td>1</td>\n",
       "    </tr>\n",
       "    <tr>\n",
       "      <th>31492021</th>\n",
       "      <td>2020-09-14</td>\n",
       "      <td>0001d44dbe7f6c4b35200abdb052c77a87596fe1bdcc37...</td>\n",
       "      <td>0734592001</td>\n",
       "      <td>0.030492</td>\n",
       "      <td>1</td>\n",
       "    </tr>\n",
       "  </tbody>\n",
       "</table>\n",
       "</div>"
      ],
      "text/plain": [
       "              t_dat                                        customer_id  \\\n",
       "30951947 2020-08-31  0001d44dbe7f6c4b35200abdb052c77a87596fe1bdcc37...   \n",
       "30990055 2020-09-01  0001d44dbe7f6c4b35200abdb052c77a87596fe1bdcc37...   \n",
       "30990056 2020-09-01  0001d44dbe7f6c4b35200abdb052c77a87596fe1bdcc37...   \n",
       "30990057 2020-09-01  0001d44dbe7f6c4b35200abdb052c77a87596fe1bdcc37...   \n",
       "30990058 2020-09-01  0001d44dbe7f6c4b35200abdb052c77a87596fe1bdcc37...   \n",
       "31140482 2020-09-05  0001d44dbe7f6c4b35200abdb052c77a87596fe1bdcc37...   \n",
       "31140483 2020-09-05  0001d44dbe7f6c4b35200abdb052c77a87596fe1bdcc37...   \n",
       "31140484 2020-09-05  0001d44dbe7f6c4b35200abdb052c77a87596fe1bdcc37...   \n",
       "31218444 2020-09-07  0001d44dbe7f6c4b35200abdb052c77a87596fe1bdcc37...   \n",
       "31218445 2020-09-07  0001d44dbe7f6c4b35200abdb052c77a87596fe1bdcc37...   \n",
       "31492021 2020-09-14  0001d44dbe7f6c4b35200abdb052c77a87596fe1bdcc37...   \n",
       "\n",
       "          article_id     price  sales_channel_id  \n",
       "30951947  0921073001  0.050831                 2  \n",
       "30990055  0777148006  0.013542                 1  \n",
       "30990056  0835801001  0.018627                 1  \n",
       "30990057  0923134005  0.012695                 1  \n",
       "30990058  0865929003  0.016932                 1  \n",
       "31140482  0572998013  0.042356                 2  \n",
       "31140483  0909869004  0.025407                 2  \n",
       "31140484  0923134003  0.025407                 2  \n",
       "31218444  0935858001  0.016932                 1  \n",
       "31218445  0888024005  0.035576                 1  \n",
       "31492021  0734592001  0.030492                 1  "
      ]
     },
     "execution_count": 36,
     "metadata": {},
     "output_type": "execute_result"
    }
   ],
   "source": [
    "tr_3w[tr_3w['customer_id'] == '0001d44dbe7f6c4b35200abdb052c77a87596fe1bdcc37e011580a479e80aa94']"
   ]
  },
  {
   "cell_type": "code",
   "execution_count": 50,
   "metadata": {},
   "outputs": [
    {
     "data": {
      "text/plain": [
       "[0, 1, 1, 1, 1, 2, 2, 2, 3, 3, 4]"
      ]
     },
     "execution_count": 50,
     "metadata": {},
     "output_type": "execute_result"
    }
   ],
   "source": [
    "num_prods = [len(x) for x in transactions['0001d44dbe7f6c4b35200abdb052c77a87596fe1bdcc37e011580a479e80aa94']['products']]\n",
    "flatten_list([[ii]*jj for ii, jj in enumerate(num_prods)])"
   ]
  },
  {
   "cell_type": "code",
   "execution_count": 42,
   "metadata": {},
   "outputs": [],
   "source": [
    "def flatten_list(lst):\n",
    "    return [item for sublist in lst for item in sublist]"
   ]
  },
  {
   "cell_type": "code",
   "execution_count": 44,
   "metadata": {},
   "outputs": [
    {
     "name": "stdout",
     "output_type": "stream",
     "text": [
      "21712 items in filtered sequences\n",
      "Original 21712 items, remaining 21712 items\n",
      "[('0909370001', 1074), ('0751471001', 932), ('0915526001', 866), ('0751471043', 857), ('0915529003', 844)]\n",
      "Item-ids range from 1, ... 21712\n"
     ]
    }
   ],
   "source": [
    "filtered_customers = list(cust_dict.keys())\n",
    "\n",
    "all_seqs = [flatten_list(transactions[cust]['products']) for cust in filtered_customers]\n",
    "seq_prods = set(flatten_list(all_seqs))\n",
    "print(f\"{len(seq_prods)} items in filtered sequences\")\n",
    "\n",
    "# items solely based on the considered interactions - tighter bounds\n",
    "filtered_items = set([k for k in prod_dict if k in seq_prods])\n",
    "print(f\"Original {len(prod_dict)} items, remaining {len(filtered_items)} items\")\n",
    "\n",
    "# get the item counts so that most frequent item gets lowest id\n",
    "item_counts = [(k, prod_dict[k]) for k in prod_dict if k in filtered_items]\n",
    "item_counts = sorted(item_counts, key=lambda x: x[1], reverse=True)\n",
    "print(item_counts[:5])\n",
    "\n",
    "# create the item-dict, starting from 1\n",
    "item_dict = {k[0]: ii+1 for ii, k in enumerate(item_counts)}\n",
    "item_ids = list(item_dict.values())\n",
    "print(f\"Item-ids range from {min(item_ids)}, ... {max(item_ids)}\")"
   ]
  },
  {
   "cell_type": "code",
   "execution_count": 51,
   "metadata": {},
   "outputs": [
    {
     "name": "stderr",
     "output_type": "stream",
     "text": [
      "100%|██████████| 48709/48709 [01:21<00:00, 595.61it/s]"
     ]
    },
    {
     "name": "stdout",
     "output_type": "stream",
     "text": [
      "Written 364695 lines in /recsys_data/RecSys/h_and_m_personalized_fashion_recommendation/hnm_3w_sessionized.txt, 48709 users and 21712 items\n",
      "Sequence length, min: 2, averag: 7.487220020940689 and max: 147\n"
     ]
    },
    {
     "name": "stderr",
     "output_type": "stream",
     "text": [
      "\n"
     ]
    }
   ],
   "source": [
    "write_train_file(data_dir=data_dir, \n",
    "                 file_name=\"hnm_3w_sessionized.txt\",\n",
    "                 customer_list=filtered_customers, \n",
    "                 transactions=transactions, \n",
    "                 item_dict=item_dict, \n",
    "                 prod_dict=df_prod,\n",
    "                 write_session_info=True,\n",
    "                 write_product_meta=True)"
   ]
  },
  {
   "cell_type": "code",
   "execution_count": 52,
   "metadata": {},
   "outputs": [
    {
     "data": {
      "text/plain": [
       "'06290deaef463fb10601eb4e96a6fe1a2163476c80c696b9500ac66fdeed1016'"
      ]
     },
     "execution_count": 52,
     "metadata": {},
     "output_type": "execute_result"
    }
   ],
   "source": [
    "filtered_customers[1190]"
   ]
  },
  {
   "cell_type": "code",
   "execution_count": 53,
   "metadata": {},
   "outputs": [
    {
     "data": {
      "text/plain": [
       "{'products': [['0762846026', '0871517013'],\n",
       "  ['0904357001',\n",
       "   '0904357001',\n",
       "   '0868060005',\n",
       "   '0907472002',\n",
       "   '0761579004',\n",
       "   '0761579004',\n",
       "   '0904412001',\n",
       "   '0868060001',\n",
       "   '0868060001',\n",
       "   '0902486002',\n",
       "   '0902486002',\n",
       "   '0796644001',\n",
       "   '0796644001',\n",
       "   '0916273002',\n",
       "   '0916273002',\n",
       "   '0803324004',\n",
       "   '0889621001',\n",
       "   '0774005001',\n",
       "   '0774005001',\n",
       "   '0842360001',\n",
       "   '0908491005',\n",
       "   '0908491005']],\n",
       " 'days': [[Timestamp('2020-09-07 00:00:00'), Timestamp('2020-09-07 00:00:00')],\n",
       "  [Timestamp('2020-09-18 00:00:00'),\n",
       "   Timestamp('2020-09-18 00:00:00'),\n",
       "   Timestamp('2020-09-18 00:00:00'),\n",
       "   Timestamp('2020-09-18 00:00:00'),\n",
       "   Timestamp('2020-09-18 00:00:00'),\n",
       "   Timestamp('2020-09-18 00:00:00'),\n",
       "   Timestamp('2020-09-18 00:00:00'),\n",
       "   Timestamp('2020-09-18 00:00:00'),\n",
       "   Timestamp('2020-09-18 00:00:00'),\n",
       "   Timestamp('2020-09-18 00:00:00'),\n",
       "   Timestamp('2020-09-18 00:00:00'),\n",
       "   Timestamp('2020-09-18 00:00:00'),\n",
       "   Timestamp('2020-09-18 00:00:00'),\n",
       "   Timestamp('2020-09-18 00:00:00'),\n",
       "   Timestamp('2020-09-18 00:00:00'),\n",
       "   Timestamp('2020-09-18 00:00:00'),\n",
       "   Timestamp('2020-09-18 00:00:00'),\n",
       "   Timestamp('2020-09-18 00:00:00'),\n",
       "   Timestamp('2020-09-18 00:00:00'),\n",
       "   Timestamp('2020-09-18 00:00:00'),\n",
       "   Timestamp('2020-09-18 00:00:00'),\n",
       "   Timestamp('2020-09-18 00:00:00')]],\n",
       " 'sessions': 2}"
      ]
     },
     "execution_count": 53,
     "metadata": {},
     "output_type": "execute_result"
    }
   ],
   "source": [
    "transactions['06290deaef463fb10601eb4e96a6fe1a2163476c80c696b9500ac66fdeed1016']"
   ]
  },
  {
   "cell_type": "code",
   "execution_count": 61,
   "metadata": {},
   "outputs": [],
   "source": [
    "inv_item_dict = {v: k for k, v in item_dict.items()}  # for smaller set of products"
   ]
  },
  {
   "cell_type": "code",
   "execution_count": 54,
   "metadata": {},
   "outputs": [],
   "source": [
    "res_file = os.path.join(data_dir, 'seq_test_pred.txt')"
   ]
  },
  {
   "cell_type": "code",
   "execution_count": 99,
   "metadata": {},
   "outputs": [
    {
     "name": "stderr",
     "output_type": "stream",
     "text": [
      "48709it [00:00, 172331.63it/s]\n"
     ]
    }
   ],
   "source": [
    "seq2seq = submission[['customer_id']]\n",
    "prediction_list = []\n",
    "\n",
    "dummy_list = list((transactions_1w['article_id'].value_counts()).index)[:12]\n",
    "dummy_pred = ' '.join(dummy_list)\n",
    "count_ids = 0\n",
    "\n",
    "res = []\n",
    "res_dict = {}\n",
    "with open(res_file, 'r') as fr:\n",
    "    for ii, line in tqdm(enumerate(fr)):\n",
    "        cid = filtered_customers[ii]\n",
    "        pred = line.strip().split()\n",
    "        pred = [inv_item_dict[int(p)] for p in pred if p not in ['<start>']]\n",
    "        pred = pred[:12]\n",
    "        if len(pred) < 12:\n",
    "            if cust_id in purchase_dict_1w:\n",
    "                s = ' '.join(pred + dummy_list_1w[:(12-len(pred))])\n",
    "            elif cust_id in purchase_dict_2w:\n",
    "                s = ' '.join(pred + dummy_list_2w[:(12-len(pred))])\n",
    "            elif cust_id in purchase_dict_3w:\n",
    "                s = ' '.join(pred + dummy_list_3w[:(12-len(pred))])\n",
    "        else:\n",
    "            s = \" \".join(pred)\n",
    "        res.append(s)\n",
    "        res_dict[cid] = s"
   ]
  },
  {
   "cell_type": "code",
   "execution_count": 79,
   "metadata": {},
   "outputs": [
    {
     "data": {
      "text/html": [
       "<div>\n",
       "<style scoped>\n",
       "    .dataframe tbody tr th:only-of-type {\n",
       "        vertical-align: middle;\n",
       "    }\n",
       "\n",
       "    .dataframe tbody tr th {\n",
       "        vertical-align: top;\n",
       "    }\n",
       "\n",
       "    .dataframe thead th {\n",
       "        text-align: right;\n",
       "    }\n",
       "</style>\n",
       "<table border=\"1\" class=\"dataframe\">\n",
       "  <thead>\n",
       "    <tr style=\"text-align: right;\">\n",
       "      <th></th>\n",
       "      <th>customer_id</th>\n",
       "      <th>prediction</th>\n",
       "    </tr>\n",
       "  </thead>\n",
       "  <tbody>\n",
       "    <tr>\n",
       "      <th>0</th>\n",
       "      <td>00000dbacae5abe5e23885899a1fa44253a17956c6d1c3...</td>\n",
       "      <td>0924243001 0924243002 0923758001 0918522001 09...</td>\n",
       "    </tr>\n",
       "    <tr>\n",
       "      <th>1</th>\n",
       "      <td>0000423b00ade91418cceaf3b26c6af3dd342b51fd051e...</td>\n",
       "      <td>0924243001 0924243002 0923758001 0918522001 09...</td>\n",
       "    </tr>\n",
       "    <tr>\n",
       "      <th>2</th>\n",
       "      <td>000058a12d5b43e67d225668fa1f8d618c13dc232df0ca...</td>\n",
       "      <td>0924243001 0924243002 0923758001 0918522001 09...</td>\n",
       "    </tr>\n",
       "    <tr>\n",
       "      <th>3</th>\n",
       "      <td>00005ca1c9ed5f5146b52ac8639a40ca9d57aeff4d1bd2...</td>\n",
       "      <td>0924243001 0924243002 0923758001 0918522001 09...</td>\n",
       "    </tr>\n",
       "    <tr>\n",
       "      <th>4</th>\n",
       "      <td>00006413d8573cd20ed7128e53b7b13819fe5cfc2d801f...</td>\n",
       "      <td>0924243001 0924243002 0923758001 0918522001 09...</td>\n",
       "    </tr>\n",
       "  </tbody>\n",
       "</table>\n",
       "</div>"
      ],
      "text/plain": [
       "                                         customer_id  \\\n",
       "0  00000dbacae5abe5e23885899a1fa44253a17956c6d1c3...   \n",
       "1  0000423b00ade91418cceaf3b26c6af3dd342b51fd051e...   \n",
       "2  000058a12d5b43e67d225668fa1f8d618c13dc232df0ca...   \n",
       "3  00005ca1c9ed5f5146b52ac8639a40ca9d57aeff4d1bd2...   \n",
       "4  00006413d8573cd20ed7128e53b7b13819fe5cfc2d801f...   \n",
       "\n",
       "                                          prediction  \n",
       "0  0924243001 0924243002 0923758001 0918522001 09...  \n",
       "1  0924243001 0924243002 0923758001 0918522001 09...  \n",
       "2  0924243001 0924243002 0923758001 0918522001 09...  \n",
       "3  0924243001 0924243002 0923758001 0918522001 09...  \n",
       "4  0924243001 0924243002 0923758001 0918522001 09...  "
      ]
     },
     "execution_count": 79,
     "metadata": {},
     "output_type": "execute_result"
    }
   ],
   "source": [
    "submission = pd.read_csv(os.path.join(data_dir, 'sample_submission.csv'))\n",
    "submission['prediction'] = dummy_pred\n",
    "submission.head()\n",
    "# len(submission['customer_id'].unique())"
   ]
  },
  {
   "cell_type": "code",
   "execution_count": 89,
   "metadata": {},
   "outputs": [
    {
     "data": {
      "text/html": [
       "<div>\n",
       "<style scoped>\n",
       "    .dataframe tbody tr th:only-of-type {\n",
       "        vertical-align: middle;\n",
       "    }\n",
       "\n",
       "    .dataframe tbody tr th {\n",
       "        vertical-align: top;\n",
       "    }\n",
       "\n",
       "    .dataframe thead th {\n",
       "        text-align: right;\n",
       "    }\n",
       "</style>\n",
       "<table border=\"1\" class=\"dataframe\">\n",
       "  <thead>\n",
       "    <tr style=\"text-align: right;\">\n",
       "      <th></th>\n",
       "      <th>customer_id</th>\n",
       "      <th>prediction</th>\n",
       "    </tr>\n",
       "  </thead>\n",
       "  <tbody>\n",
       "    <tr>\n",
       "      <th>0</th>\n",
       "      <td>0001d44dbe7f6c4b35200abdb052c77a87596fe1bdcc37...</td>\n",
       "      <td>0923037002 0923037002 0923037002 0923037003 09...</td>\n",
       "    </tr>\n",
       "    <tr>\n",
       "      <th>1</th>\n",
       "      <td>0003e867a930d0d6842f923d6ba7c9b77aba33fe2a0fbf...</td>\n",
       "      <td>0923037002 0923037002 0923037002 0923037003 09...</td>\n",
       "    </tr>\n",
       "    <tr>\n",
       "      <th>2</th>\n",
       "      <td>00040239317e877c77ac6e79df42eb2633ad38fcac09fc...</td>\n",
       "      <td>0923037002 0915459002 0894703001 0909093003 09...</td>\n",
       "    </tr>\n",
       "    <tr>\n",
       "      <th>3</th>\n",
       "      <td>000493dd9fc463df1acc2081450c9e75ef8e87d5dd17ed...</td>\n",
       "      <td>0573085028 0573085028 0573085028 0573085028 05...</td>\n",
       "    </tr>\n",
       "    <tr>\n",
       "      <th>4</th>\n",
       "      <td>0006bfcec82c6c132276c0a5549ae13645c9ab77b0243f...</td>\n",
       "      <td>0877769001 0586928001 0927751001 0927751001 08...</td>\n",
       "    </tr>\n",
       "  </tbody>\n",
       "</table>\n",
       "</div>"
      ],
      "text/plain": [
       "                                         customer_id  \\\n",
       "0  0001d44dbe7f6c4b35200abdb052c77a87596fe1bdcc37...   \n",
       "1  0003e867a930d0d6842f923d6ba7c9b77aba33fe2a0fbf...   \n",
       "2  00040239317e877c77ac6e79df42eb2633ad38fcac09fc...   \n",
       "3  000493dd9fc463df1acc2081450c9e75ef8e87d5dd17ed...   \n",
       "4  0006bfcec82c6c132276c0a5549ae13645c9ab77b0243f...   \n",
       "\n",
       "                                          prediction  \n",
       "0  0923037002 0923037002 0923037002 0923037003 09...  \n",
       "1  0923037002 0923037002 0923037002 0923037003 09...  \n",
       "2  0923037002 0915459002 0894703001 0909093003 09...  \n",
       "3  0573085028 0573085028 0573085028 0573085028 05...  \n",
       "4  0877769001 0586928001 0927751001 0927751001 08...  "
      ]
     },
     "execution_count": 89,
     "metadata": {},
     "output_type": "execute_result"
    }
   ],
   "source": [
    "smaller = pd.DataFrame({'customer_id': filtered_customers, 'prediction': res})\n",
    "smaller.head()"
   ]
  },
  {
   "cell_type": "code",
   "execution_count": 95,
   "metadata": {},
   "outputs": [],
   "source": [
    "seq2seq = pd.concat([submission[~submission['customer_id'].isin(smaller['customer_id'])], smaller])"
   ]
  },
  {
   "cell_type": "code",
   "execution_count": 101,
   "metadata": {},
   "outputs": [],
   "source": [
    "seq2seq.to_csv(os.path.join(data_dir, \"submission_7.txt\"), header=True, index=False)"
   ]
  },
  {
   "cell_type": "code",
   "execution_count": 102,
   "metadata": {},
   "outputs": [
    {
     "name": "stdout",
     "output_type": "stream",
     "text": [
      "100%|████████████████████████████████████████| 258M/258M [00:03<00:00, 73.1MB/s]\n",
      "Successfully submitted to H&M Personalized Fashion Recommendations"
     ]
    }
   ],
   "source": [
    "! kaggle competitions submit -c h-and-m-personalized-fashion-recommendations -f /recsys_data/RecSys/h_and_m_personalized_fashion_recommendation/submission_7.txt -m \"attempt-14\""
   ]
  },
  {
   "cell_type": "markdown",
   "metadata": {},
   "source": [
    "Total 1,371,980 customers\n",
    "    - 196,319 present in the last 3 weeks\n",
    "    - out of that only 48,709 have more than one purchase"
   ]
  },
  {
   "cell_type": "code",
   "execution_count": 100,
   "metadata": {},
   "outputs": [
    {
     "name": "stderr",
     "output_type": "stream",
     "text": [
      "1371980it [22:42, 1007.18it/s]\n"
     ]
    },
    {
     "name": "stdout",
     "output_type": "stream",
     "text": [
      "(1371980, 2)\n",
      "1175661 customers not in the last 3 weeks\n"
     ]
    },
    {
     "data": {
      "text/html": [
       "<div>\n",
       "<style scoped>\n",
       "    .dataframe tbody tr th:only-of-type {\n",
       "        vertical-align: middle;\n",
       "    }\n",
       "\n",
       "    .dataframe tbody tr th {\n",
       "        vertical-align: top;\n",
       "    }\n",
       "\n",
       "    .dataframe thead th {\n",
       "        text-align: right;\n",
       "    }\n",
       "</style>\n",
       "<table border=\"1\" class=\"dataframe\">\n",
       "  <thead>\n",
       "    <tr style=\"text-align: right;\">\n",
       "      <th></th>\n",
       "      <th>customer_id</th>\n",
       "      <th>prediction</th>\n",
       "    </tr>\n",
       "  </thead>\n",
       "  <tbody>\n",
       "    <tr>\n",
       "      <th>0</th>\n",
       "      <td>00000dbacae5abe5e23885899a1fa44253a17956c6d1c3...</td>\n",
       "      <td>0568601043 0751471001 0909370001 0915526001 09...</td>\n",
       "    </tr>\n",
       "    <tr>\n",
       "      <th>1</th>\n",
       "      <td>0000423b00ade91418cceaf3b26c6af3dd342b51fd051e...</td>\n",
       "      <td>0924243001 0924243002 0923758001 0918522001 09...</td>\n",
       "    </tr>\n",
       "    <tr>\n",
       "      <th>2</th>\n",
       "      <td>000058a12d5b43e67d225668fa1f8d618c13dc232df0ca...</td>\n",
       "      <td>0794321007 0924243001 0924243002 0923758001 09...</td>\n",
       "    </tr>\n",
       "    <tr>\n",
       "      <th>3</th>\n",
       "      <td>00005ca1c9ed5f5146b52ac8639a40ca9d57aeff4d1bd2...</td>\n",
       "      <td>0924243001 0924243002 0923758001 0918522001 09...</td>\n",
       "    </tr>\n",
       "    <tr>\n",
       "      <th>4</th>\n",
       "      <td>00006413d8573cd20ed7128e53b7b13819fe5cfc2d801f...</td>\n",
       "      <td>0924243001 0924243002 0923758001 0918522001 09...</td>\n",
       "    </tr>\n",
       "  </tbody>\n",
       "</table>\n",
       "</div>"
      ],
      "text/plain": [
       "                                         customer_id  \\\n",
       "0  00000dbacae5abe5e23885899a1fa44253a17956c6d1c3...   \n",
       "1  0000423b00ade91418cceaf3b26c6af3dd342b51fd051e...   \n",
       "2  000058a12d5b43e67d225668fa1f8d618c13dc232df0ca...   \n",
       "3  00005ca1c9ed5f5146b52ac8639a40ca9d57aeff4d1bd2...   \n",
       "4  00006413d8573cd20ed7128e53b7b13819fe5cfc2d801f...   \n",
       "\n",
       "                                          prediction  \n",
       "0  0568601043 0751471001 0909370001 0915526001 09...  \n",
       "1  0924243001 0924243002 0923758001 0918522001 09...  \n",
       "2  0794321007 0924243001 0924243002 0923758001 09...  \n",
       "3  0924243001 0924243002 0923758001 0918522001 09...  \n",
       "4  0924243001 0924243002 0923758001 0918522001 09...  "
      ]
     },
     "execution_count": 100,
     "metadata": {},
     "output_type": "execute_result"
    }
   ],
   "source": [
    "seq2seq = submission[['customer_id']]\n",
    "prediction_list = []\n",
    "\n",
    "dummy_list = list((transactions_1w['article_id'].value_counts()).index)[:12]\n",
    "dummy_pred = ' '.join(dummy_list)\n",
    "count_ids = 0\n",
    "\n",
    "for i, cust_id in tqdm(enumerate(submission['customer_id'].values.reshape((-1,)))):\n",
    "    if cust_id in filtered_customers:\n",
    "        s = res_dict[cust_id]  # from seq2seq model\n",
    "    else:\n",
    "        if cust_id in purchase_dict_1w:\n",
    "            l = sorted((purchase_dict_1w[cust_id]).items(), key=lambda x: x[1], reverse=True)\n",
    "            l = [y[0] for y in l]\n",
    "            if len(l)>12:\n",
    "                s = ' '.join(l[:12])\n",
    "            else:\n",
    "                s = ' '.join(l+dummy_list_1w[:(12-len(l))])\n",
    "        elif cust_id in purchase_dict_2w:\n",
    "            l = sorted((purchase_dict_2w[cust_id]).items(), key=lambda x: x[1], reverse=True)\n",
    "            l = [y[0] for y in l]\n",
    "            if len(l)>12:\n",
    "                s = ' '.join(l[:12])\n",
    "            else:\n",
    "                s = ' '.join(l+dummy_list_2w[:(12-len(l))])\n",
    "        elif cust_id in purchase_dict_3w:\n",
    "            l = sorted((purchase_dict_3w[cust_id]).items(), key=lambda x: x[1], reverse=True)\n",
    "            l = [y[0] for y in l]\n",
    "            if len(l)>12:\n",
    "                s = ' '.join(l[:12])\n",
    "            else:\n",
    "                s = ' '.join(l+dummy_list_3w[:(12-len(l))])\n",
    "        else:\n",
    "            s = dummy_pred\n",
    "            count_ids += 1\n",
    "    prediction_list.append(s)\n",
    "\n",
    "seq2seq['prediction'] = prediction_list\n",
    "print(seq2seq.shape)\n",
    "print(count_ids, \"customers not in the last 3 weeks\")\n",
    "seq2seq.head()"
   ]
  },
  {
   "cell_type": "code",
   "execution_count": null,
   "metadata": {},
   "outputs": [],
   "source": []
  }
 ],
 "metadata": {
  "kernelspec": {
   "display_name": "Python 3",
   "language": "python",
   "name": "python3"
  },
  "language_info": {
   "codemirror_mode": {
    "name": "ipython",
    "version": 3
   },
   "file_extension": ".py",
   "mimetype": "text/x-python",
   "name": "python",
   "nbconvert_exporter": "python",
   "pygments_lexer": "ipython3",
   "version": "3.7.7"
  }
 },
 "nbformat": 4,
 "nbformat_minor": 4
}
